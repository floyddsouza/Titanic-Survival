{
 "cells": [
  {
   "cell_type": "markdown",
   "metadata": {},
   "source": [
    "### Importing the data"
   ]
  },
  {
   "cell_type": "code",
   "execution_count": 1,
   "metadata": {},
   "outputs": [],
   "source": [
    "import pandas as pd\n",
    "import numpy as np"
   ]
  },
  {
   "cell_type": "code",
   "execution_count": 2,
   "metadata": {},
   "outputs": [],
   "source": [
    "data = pd.read_csv ('train.csv')\n",
    "data_test = pd.read_csv ('test.csv')"
   ]
  },
  {
   "cell_type": "code",
   "execution_count": 3,
   "metadata": {},
   "outputs": [
    {
     "data": {
      "text/html": [
       "<div>\n",
       "<style scoped>\n",
       "    .dataframe tbody tr th:only-of-type {\n",
       "        vertical-align: middle;\n",
       "    }\n",
       "\n",
       "    .dataframe tbody tr th {\n",
       "        vertical-align: top;\n",
       "    }\n",
       "\n",
       "    .dataframe thead th {\n",
       "        text-align: right;\n",
       "    }\n",
       "</style>\n",
       "<table border=\"1\" class=\"dataframe\">\n",
       "  <thead>\n",
       "    <tr style=\"text-align: right;\">\n",
       "      <th></th>\n",
       "      <th>PassengerId</th>\n",
       "      <th>Survived</th>\n",
       "      <th>Pclass</th>\n",
       "      <th>Name</th>\n",
       "      <th>Sex</th>\n",
       "      <th>Age</th>\n",
       "      <th>SibSp</th>\n",
       "      <th>Parch</th>\n",
       "      <th>Ticket</th>\n",
       "      <th>Fare</th>\n",
       "      <th>Cabin</th>\n",
       "      <th>Embarked</th>\n",
       "    </tr>\n",
       "  </thead>\n",
       "  <tbody>\n",
       "    <tr>\n",
       "      <th>0</th>\n",
       "      <td>1</td>\n",
       "      <td>0</td>\n",
       "      <td>3</td>\n",
       "      <td>Braund, Mr. Owen Harris</td>\n",
       "      <td>male</td>\n",
       "      <td>22.0</td>\n",
       "      <td>1</td>\n",
       "      <td>0</td>\n",
       "      <td>A/5 21171</td>\n",
       "      <td>7.2500</td>\n",
       "      <td>NaN</td>\n",
       "      <td>S</td>\n",
       "    </tr>\n",
       "    <tr>\n",
       "      <th>1</th>\n",
       "      <td>2</td>\n",
       "      <td>1</td>\n",
       "      <td>1</td>\n",
       "      <td>Cumings, Mrs. John Bradley (Florence Briggs Th...</td>\n",
       "      <td>female</td>\n",
       "      <td>38.0</td>\n",
       "      <td>1</td>\n",
       "      <td>0</td>\n",
       "      <td>PC 17599</td>\n",
       "      <td>71.2833</td>\n",
       "      <td>C85</td>\n",
       "      <td>C</td>\n",
       "    </tr>\n",
       "    <tr>\n",
       "      <th>2</th>\n",
       "      <td>3</td>\n",
       "      <td>1</td>\n",
       "      <td>3</td>\n",
       "      <td>Heikkinen, Miss. Laina</td>\n",
       "      <td>female</td>\n",
       "      <td>26.0</td>\n",
       "      <td>0</td>\n",
       "      <td>0</td>\n",
       "      <td>STON/O2. 3101282</td>\n",
       "      <td>7.9250</td>\n",
       "      <td>NaN</td>\n",
       "      <td>S</td>\n",
       "    </tr>\n",
       "  </tbody>\n",
       "</table>\n",
       "</div>"
      ],
      "text/plain": [
       "   PassengerId  Survived  Pclass  \\\n",
       "0            1         0       3   \n",
       "1            2         1       1   \n",
       "2            3         1       3   \n",
       "\n",
       "                                                Name     Sex   Age  SibSp  \\\n",
       "0                            Braund, Mr. Owen Harris    male  22.0      1   \n",
       "1  Cumings, Mrs. John Bradley (Florence Briggs Th...  female  38.0      1   \n",
       "2                             Heikkinen, Miss. Laina  female  26.0      0   \n",
       "\n",
       "   Parch            Ticket     Fare Cabin Embarked  \n",
       "0      0         A/5 21171   7.2500   NaN        S  \n",
       "1      0          PC 17599  71.2833   C85        C  \n",
       "2      0  STON/O2. 3101282   7.9250   NaN        S  "
      ]
     },
     "execution_count": 3,
     "metadata": {},
     "output_type": "execute_result"
    }
   ],
   "source": [
    "data.head(3)"
   ]
  },
  {
   "cell_type": "code",
   "execution_count": 4,
   "metadata": {},
   "outputs": [
    {
     "data": {
      "text/html": [
       "<div>\n",
       "<style scoped>\n",
       "    .dataframe tbody tr th:only-of-type {\n",
       "        vertical-align: middle;\n",
       "    }\n",
       "\n",
       "    .dataframe tbody tr th {\n",
       "        vertical-align: top;\n",
       "    }\n",
       "\n",
       "    .dataframe thead th {\n",
       "        text-align: right;\n",
       "    }\n",
       "</style>\n",
       "<table border=\"1\" class=\"dataframe\">\n",
       "  <thead>\n",
       "    <tr style=\"text-align: right;\">\n",
       "      <th></th>\n",
       "      <th>PassengerId</th>\n",
       "      <th>Pclass</th>\n",
       "      <th>Name</th>\n",
       "      <th>Sex</th>\n",
       "      <th>Age</th>\n",
       "      <th>SibSp</th>\n",
       "      <th>Parch</th>\n",
       "      <th>Ticket</th>\n",
       "      <th>Fare</th>\n",
       "      <th>Cabin</th>\n",
       "      <th>Embarked</th>\n",
       "    </tr>\n",
       "  </thead>\n",
       "  <tbody>\n",
       "    <tr>\n",
       "      <th>0</th>\n",
       "      <td>892</td>\n",
       "      <td>3</td>\n",
       "      <td>Kelly, Mr. James</td>\n",
       "      <td>male</td>\n",
       "      <td>34.5</td>\n",
       "      <td>0</td>\n",
       "      <td>0</td>\n",
       "      <td>330911</td>\n",
       "      <td>7.8292</td>\n",
       "      <td>NaN</td>\n",
       "      <td>Q</td>\n",
       "    </tr>\n",
       "    <tr>\n",
       "      <th>1</th>\n",
       "      <td>893</td>\n",
       "      <td>3</td>\n",
       "      <td>Wilkes, Mrs. James (Ellen Needs)</td>\n",
       "      <td>female</td>\n",
       "      <td>47.0</td>\n",
       "      <td>1</td>\n",
       "      <td>0</td>\n",
       "      <td>363272</td>\n",
       "      <td>7.0000</td>\n",
       "      <td>NaN</td>\n",
       "      <td>S</td>\n",
       "    </tr>\n",
       "    <tr>\n",
       "      <th>2</th>\n",
       "      <td>894</td>\n",
       "      <td>2</td>\n",
       "      <td>Myles, Mr. Thomas Francis</td>\n",
       "      <td>male</td>\n",
       "      <td>62.0</td>\n",
       "      <td>0</td>\n",
       "      <td>0</td>\n",
       "      <td>240276</td>\n",
       "      <td>9.6875</td>\n",
       "      <td>NaN</td>\n",
       "      <td>Q</td>\n",
       "    </tr>\n",
       "    <tr>\n",
       "      <th>3</th>\n",
       "      <td>895</td>\n",
       "      <td>3</td>\n",
       "      <td>Wirz, Mr. Albert</td>\n",
       "      <td>male</td>\n",
       "      <td>27.0</td>\n",
       "      <td>0</td>\n",
       "      <td>0</td>\n",
       "      <td>315154</td>\n",
       "      <td>8.6625</td>\n",
       "      <td>NaN</td>\n",
       "      <td>S</td>\n",
       "    </tr>\n",
       "    <tr>\n",
       "      <th>4</th>\n",
       "      <td>896</td>\n",
       "      <td>3</td>\n",
       "      <td>Hirvonen, Mrs. Alexander (Helga E Lindqvist)</td>\n",
       "      <td>female</td>\n",
       "      <td>22.0</td>\n",
       "      <td>1</td>\n",
       "      <td>1</td>\n",
       "      <td>3101298</td>\n",
       "      <td>12.2875</td>\n",
       "      <td>NaN</td>\n",
       "      <td>S</td>\n",
       "    </tr>\n",
       "  </tbody>\n",
       "</table>\n",
       "</div>"
      ],
      "text/plain": [
       "   PassengerId  Pclass                                          Name     Sex  \\\n",
       "0          892       3                              Kelly, Mr. James    male   \n",
       "1          893       3              Wilkes, Mrs. James (Ellen Needs)  female   \n",
       "2          894       2                     Myles, Mr. Thomas Francis    male   \n",
       "3          895       3                              Wirz, Mr. Albert    male   \n",
       "4          896       3  Hirvonen, Mrs. Alexander (Helga E Lindqvist)  female   \n",
       "\n",
       "    Age  SibSp  Parch   Ticket     Fare Cabin Embarked  \n",
       "0  34.5      0      0   330911   7.8292   NaN        Q  \n",
       "1  47.0      1      0   363272   7.0000   NaN        S  \n",
       "2  62.0      0      0   240276   9.6875   NaN        Q  \n",
       "3  27.0      0      0   315154   8.6625   NaN        S  \n",
       "4  22.0      1      1  3101298  12.2875   NaN        S  "
      ]
     },
     "execution_count": 4,
     "metadata": {},
     "output_type": "execute_result"
    }
   ],
   "source": [
    "data_test.head(5)"
   ]
  },
  {
   "cell_type": "code",
   "execution_count": 5,
   "metadata": {},
   "outputs": [],
   "source": [
    "#### we will store passenger ID of test data for later use."
   ]
  },
  {
   "cell_type": "code",
   "execution_count": 6,
   "metadata": {},
   "outputs": [
    {
     "data": {
      "text/html": [
       "<div>\n",
       "<style scoped>\n",
       "    .dataframe tbody tr th:only-of-type {\n",
       "        vertical-align: middle;\n",
       "    }\n",
       "\n",
       "    .dataframe tbody tr th {\n",
       "        vertical-align: top;\n",
       "    }\n",
       "\n",
       "    .dataframe thead th {\n",
       "        text-align: right;\n",
       "    }\n",
       "</style>\n",
       "<table border=\"1\" class=\"dataframe\">\n",
       "  <thead>\n",
       "    <tr style=\"text-align: right;\">\n",
       "      <th></th>\n",
       "      <th>PassengerId</th>\n",
       "    </tr>\n",
       "  </thead>\n",
       "  <tbody>\n",
       "    <tr>\n",
       "      <th>0</th>\n",
       "      <td>892</td>\n",
       "    </tr>\n",
       "    <tr>\n",
       "      <th>1</th>\n",
       "      <td>893</td>\n",
       "    </tr>\n",
       "    <tr>\n",
       "      <th>2</th>\n",
       "      <td>894</td>\n",
       "    </tr>\n",
       "    <tr>\n",
       "      <th>3</th>\n",
       "      <td>895</td>\n",
       "    </tr>\n",
       "    <tr>\n",
       "      <th>4</th>\n",
       "      <td>896</td>\n",
       "    </tr>\n",
       "  </tbody>\n",
       "</table>\n",
       "</div>"
      ],
      "text/plain": [
       "   PassengerId\n",
       "0          892\n",
       "1          893\n",
       "2          894\n",
       "3          895\n",
       "4          896"
      ]
     },
     "execution_count": 6,
     "metadata": {},
     "output_type": "execute_result"
    }
   ],
   "source": [
    "Passenger = pd.DataFrame(data_test['PassengerId'])\n",
    "Passenger.head(5)"
   ]
  },
  {
   "cell_type": "markdown",
   "metadata": {},
   "source": [
    "### Looking for null values"
   ]
  },
  {
   "cell_type": "code",
   "execution_count": 7,
   "metadata": {},
   "outputs": [
    {
     "data": {
      "text/plain": [
       "PassengerId    False\n",
       "Survived       False\n",
       "Pclass         False\n",
       "Name           False\n",
       "Sex            False\n",
       "Age             True\n",
       "SibSp          False\n",
       "Parch          False\n",
       "Ticket         False\n",
       "Fare           False\n",
       "Cabin           True\n",
       "Embarked        True\n",
       "dtype: bool"
      ]
     },
     "execution_count": 7,
     "metadata": {},
     "output_type": "execute_result"
    }
   ],
   "source": [
    "data.isnull().any()"
   ]
  },
  {
   "cell_type": "code",
   "execution_count": 8,
   "metadata": {},
   "outputs": [
    {
     "data": {
      "text/plain": [
       "PassengerId    False\n",
       "Pclass         False\n",
       "Name           False\n",
       "Sex            False\n",
       "Age             True\n",
       "SibSp          False\n",
       "Parch          False\n",
       "Ticket         False\n",
       "Fare            True\n",
       "Cabin           True\n",
       "Embarked       False\n",
       "dtype: bool"
      ]
     },
     "execution_count": 8,
     "metadata": {},
     "output_type": "execute_result"
    }
   ],
   "source": [
    "data_test.isnull().any()"
   ]
  },
  {
   "cell_type": "markdown",
   "metadata": {},
   "source": [
    "### Splitting 'Name' to look at honorifics, as this may play a role on survival"
   ]
  },
  {
   "cell_type": "code",
   "execution_count": 9,
   "metadata": {},
   "outputs": [
    {
     "data": {
      "text/plain": [
       "Index(['PassengerId', 'Survived', 'Pclass', 'Name', 'Sex', 'Age', 'SibSp',\n",
       "       'Parch', 'Ticket', 'Fare', 'Cabin', 'Embarked'],\n",
       "      dtype='object')"
      ]
     },
     "execution_count": 9,
     "metadata": {},
     "output_type": "execute_result"
    }
   ],
   "source": [
    "data.columns"
   ]
  },
  {
   "cell_type": "code",
   "execution_count": 10,
   "metadata": {},
   "outputs": [
    {
     "data": {
      "text/html": [
       "<div>\n",
       "<style scoped>\n",
       "    .dataframe tbody tr th:only-of-type {\n",
       "        vertical-align: middle;\n",
       "    }\n",
       "\n",
       "    .dataframe tbody tr th {\n",
       "        vertical-align: top;\n",
       "    }\n",
       "\n",
       "    .dataframe thead th {\n",
       "        text-align: right;\n",
       "    }\n",
       "</style>\n",
       "<table border=\"1\" class=\"dataframe\">\n",
       "  <thead>\n",
       "    <tr style=\"text-align: right;\">\n",
       "      <th></th>\n",
       "      <th>0</th>\n",
       "      <th>1</th>\n",
       "    </tr>\n",
       "  </thead>\n",
       "  <tbody>\n",
       "    <tr>\n",
       "      <th>0</th>\n",
       "      <td>Mr</td>\n",
       "      <td>Owen Harris</td>\n",
       "    </tr>\n",
       "    <tr>\n",
       "      <th>1</th>\n",
       "      <td>Mrs</td>\n",
       "      <td>John Bradley (Florence Briggs Thayer)</td>\n",
       "    </tr>\n",
       "    <tr>\n",
       "      <th>2</th>\n",
       "      <td>Miss</td>\n",
       "      <td>Laina</td>\n",
       "    </tr>\n",
       "    <tr>\n",
       "      <th>3</th>\n",
       "      <td>Mrs</td>\n",
       "      <td>Jacques Heath (Lily May Peel)</td>\n",
       "    </tr>\n",
       "    <tr>\n",
       "      <th>4</th>\n",
       "      <td>Mr</td>\n",
       "      <td>William Henry</td>\n",
       "    </tr>\n",
       "    <tr>\n",
       "      <th>...</th>\n",
       "      <td>...</td>\n",
       "      <td>...</td>\n",
       "    </tr>\n",
       "    <tr>\n",
       "      <th>413</th>\n",
       "      <td>Mr</td>\n",
       "      <td>Alfred Fleming</td>\n",
       "    </tr>\n",
       "    <tr>\n",
       "      <th>414</th>\n",
       "      <td>Mr</td>\n",
       "      <td>Johan Julian</td>\n",
       "    </tr>\n",
       "    <tr>\n",
       "      <th>415</th>\n",
       "      <td>Mrs</td>\n",
       "      <td>Thomas (Annie Louise Rowley)</td>\n",
       "    </tr>\n",
       "    <tr>\n",
       "      <th>416</th>\n",
       "      <td>Mrs</td>\n",
       "      <td>James Vivian (Lulu Thorne Christian)</td>\n",
       "    </tr>\n",
       "    <tr>\n",
       "      <th>417</th>\n",
       "      <td>Miss</td>\n",
       "      <td>Lyyli Karoliina</td>\n",
       "    </tr>\n",
       "  </tbody>\n",
       "</table>\n",
       "<p>418 rows × 2 columns</p>\n",
       "</div>"
      ],
      "text/plain": [
       "         0                                       1\n",
       "0       Mr                             Owen Harris\n",
       "1      Mrs   John Bradley (Florence Briggs Thayer)\n",
       "2     Miss                                   Laina\n",
       "3      Mrs           Jacques Heath (Lily May Peel)\n",
       "4       Mr                           William Henry\n",
       "..     ...                                     ...\n",
       "413     Mr                          Alfred Fleming\n",
       "414     Mr                            Johan Julian\n",
       "415    Mrs            Thomas (Annie Louise Rowley)\n",
       "416    Mrs    James Vivian (Lulu Thorne Christian)\n",
       "417   Miss                         Lyyli Karoliina\n",
       "\n",
       "[418 rows x 2 columns]"
      ]
     },
     "execution_count": 10,
     "metadata": {},
     "output_type": "execute_result"
    }
   ],
   "source": [
    "data[['Last_Name', 'Title_First_Name']] = data.Name.str.split(',', expand=True)\n",
    "data['Title_First_Name'].str.split('.', expand=True)\n",
    "\n",
    "\n",
    "data_test[['Last_Name', 'Title_First_Name']] = data.Name.str.split(',', expand=True)\n",
    "data_test['Title_First_Name'].str.split('.', expand=True)"
   ]
  },
  {
   "cell_type": "markdown",
   "metadata": {},
   "source": [
    "### An unexpected 3rd column got created, we will be deleting those columns and only keeping the honorific, We will also delete the Ticket column"
   ]
  },
  {
   "cell_type": "code",
   "execution_count": 11,
   "metadata": {},
   "outputs": [
    {
     "data": {
      "text/html": [
       "<div>\n",
       "<style scoped>\n",
       "    .dataframe tbody tr th:only-of-type {\n",
       "        vertical-align: middle;\n",
       "    }\n",
       "\n",
       "    .dataframe tbody tr th {\n",
       "        vertical-align: top;\n",
       "    }\n",
       "\n",
       "    .dataframe thead th {\n",
       "        text-align: right;\n",
       "    }\n",
       "</style>\n",
       "<table border=\"1\" class=\"dataframe\">\n",
       "  <thead>\n",
       "    <tr style=\"text-align: right;\">\n",
       "      <th></th>\n",
       "      <th>Survived</th>\n",
       "      <th>Pclass</th>\n",
       "      <th>Sex</th>\n",
       "      <th>Age</th>\n",
       "      <th>SibSp</th>\n",
       "      <th>Parch</th>\n",
       "      <th>Fare</th>\n",
       "      <th>Cabin</th>\n",
       "      <th>Embarked</th>\n",
       "      <th>Honorific</th>\n",
       "    </tr>\n",
       "  </thead>\n",
       "  <tbody>\n",
       "    <tr>\n",
       "      <th>0</th>\n",
       "      <td>0</td>\n",
       "      <td>3</td>\n",
       "      <td>male</td>\n",
       "      <td>22.0</td>\n",
       "      <td>1</td>\n",
       "      <td>0</td>\n",
       "      <td>7.2500</td>\n",
       "      <td>NaN</td>\n",
       "      <td>S</td>\n",
       "      <td>Mr</td>\n",
       "    </tr>\n",
       "    <tr>\n",
       "      <th>1</th>\n",
       "      <td>1</td>\n",
       "      <td>1</td>\n",
       "      <td>female</td>\n",
       "      <td>38.0</td>\n",
       "      <td>1</td>\n",
       "      <td>0</td>\n",
       "      <td>71.2833</td>\n",
       "      <td>C85</td>\n",
       "      <td>C</td>\n",
       "      <td>Mrs</td>\n",
       "    </tr>\n",
       "    <tr>\n",
       "      <th>2</th>\n",
       "      <td>1</td>\n",
       "      <td>3</td>\n",
       "      <td>female</td>\n",
       "      <td>26.0</td>\n",
       "      <td>0</td>\n",
       "      <td>0</td>\n",
       "      <td>7.9250</td>\n",
       "      <td>NaN</td>\n",
       "      <td>S</td>\n",
       "      <td>Miss</td>\n",
       "    </tr>\n",
       "    <tr>\n",
       "      <th>3</th>\n",
       "      <td>1</td>\n",
       "      <td>1</td>\n",
       "      <td>female</td>\n",
       "      <td>35.0</td>\n",
       "      <td>1</td>\n",
       "      <td>0</td>\n",
       "      <td>53.1000</td>\n",
       "      <td>C123</td>\n",
       "      <td>S</td>\n",
       "      <td>Mrs</td>\n",
       "    </tr>\n",
       "    <tr>\n",
       "      <th>4</th>\n",
       "      <td>0</td>\n",
       "      <td>3</td>\n",
       "      <td>male</td>\n",
       "      <td>35.0</td>\n",
       "      <td>0</td>\n",
       "      <td>0</td>\n",
       "      <td>8.0500</td>\n",
       "      <td>NaN</td>\n",
       "      <td>S</td>\n",
       "      <td>Mr</td>\n",
       "    </tr>\n",
       "  </tbody>\n",
       "</table>\n",
       "</div>"
      ],
      "text/plain": [
       "   Survived  Pclass     Sex   Age  SibSp  Parch     Fare Cabin Embarked  \\\n",
       "0         0       3    male  22.0      1      0   7.2500   NaN        S   \n",
       "1         1       1  female  38.0      1      0  71.2833   C85        C   \n",
       "2         1       3  female  26.0      0      0   7.9250   NaN        S   \n",
       "3         1       1  female  35.0      1      0  53.1000  C123        S   \n",
       "4         0       3    male  35.0      0      0   8.0500   NaN        S   \n",
       "\n",
       "  Honorific  \n",
       "0        Mr  \n",
       "1       Mrs  \n",
       "2      Miss  \n",
       "3       Mrs  \n",
       "4        Mr  "
      ]
     },
     "execution_count": 11,
     "metadata": {},
     "output_type": "execute_result"
    }
   ],
   "source": [
    "data[['Honorific', 'delete1','delete2']] = data['Title_First_Name'].str.split('.', expand=True)\n",
    "data.drop (columns=['Title_First_Name','Last_Name','delete1','delete2', 'Name', 'Ticket','PassengerId'], inplace = True)\n",
    "data.head(5)"
   ]
  },
  {
   "cell_type": "code",
   "execution_count": 12,
   "metadata": {},
   "outputs": [
    {
     "data": {
      "text/html": [
       "<div>\n",
       "<style scoped>\n",
       "    .dataframe tbody tr th:only-of-type {\n",
       "        vertical-align: middle;\n",
       "    }\n",
       "\n",
       "    .dataframe tbody tr th {\n",
       "        vertical-align: top;\n",
       "    }\n",
       "\n",
       "    .dataframe thead th {\n",
       "        text-align: right;\n",
       "    }\n",
       "</style>\n",
       "<table border=\"1\" class=\"dataframe\">\n",
       "  <thead>\n",
       "    <tr style=\"text-align: right;\">\n",
       "      <th></th>\n",
       "      <th>Pclass</th>\n",
       "      <th>Sex</th>\n",
       "      <th>Age</th>\n",
       "      <th>SibSp</th>\n",
       "      <th>Parch</th>\n",
       "      <th>Fare</th>\n",
       "      <th>Cabin</th>\n",
       "      <th>Embarked</th>\n",
       "      <th>Honorific</th>\n",
       "    </tr>\n",
       "  </thead>\n",
       "  <tbody>\n",
       "    <tr>\n",
       "      <th>0</th>\n",
       "      <td>3</td>\n",
       "      <td>male</td>\n",
       "      <td>34.5</td>\n",
       "      <td>0</td>\n",
       "      <td>0</td>\n",
       "      <td>7.8292</td>\n",
       "      <td>NaN</td>\n",
       "      <td>Q</td>\n",
       "      <td>Mr</td>\n",
       "    </tr>\n",
       "    <tr>\n",
       "      <th>1</th>\n",
       "      <td>3</td>\n",
       "      <td>female</td>\n",
       "      <td>47.0</td>\n",
       "      <td>1</td>\n",
       "      <td>0</td>\n",
       "      <td>7.0000</td>\n",
       "      <td>NaN</td>\n",
       "      <td>S</td>\n",
       "      <td>Mrs</td>\n",
       "    </tr>\n",
       "    <tr>\n",
       "      <th>2</th>\n",
       "      <td>2</td>\n",
       "      <td>male</td>\n",
       "      <td>62.0</td>\n",
       "      <td>0</td>\n",
       "      <td>0</td>\n",
       "      <td>9.6875</td>\n",
       "      <td>NaN</td>\n",
       "      <td>Q</td>\n",
       "      <td>Miss</td>\n",
       "    </tr>\n",
       "    <tr>\n",
       "      <th>3</th>\n",
       "      <td>3</td>\n",
       "      <td>male</td>\n",
       "      <td>27.0</td>\n",
       "      <td>0</td>\n",
       "      <td>0</td>\n",
       "      <td>8.6625</td>\n",
       "      <td>NaN</td>\n",
       "      <td>S</td>\n",
       "      <td>Mrs</td>\n",
       "    </tr>\n",
       "    <tr>\n",
       "      <th>4</th>\n",
       "      <td>3</td>\n",
       "      <td>female</td>\n",
       "      <td>22.0</td>\n",
       "      <td>1</td>\n",
       "      <td>1</td>\n",
       "      <td>12.2875</td>\n",
       "      <td>NaN</td>\n",
       "      <td>S</td>\n",
       "      <td>Mr</td>\n",
       "    </tr>\n",
       "  </tbody>\n",
       "</table>\n",
       "</div>"
      ],
      "text/plain": [
       "   Pclass     Sex   Age  SibSp  Parch     Fare Cabin Embarked Honorific\n",
       "0       3    male  34.5      0      0   7.8292   NaN        Q        Mr\n",
       "1       3  female  47.0      1      0   7.0000   NaN        S       Mrs\n",
       "2       2    male  62.0      0      0   9.6875   NaN        Q      Miss\n",
       "3       3    male  27.0      0      0   8.6625   NaN        S       Mrs\n",
       "4       3  female  22.0      1      1  12.2875   NaN        S        Mr"
      ]
     },
     "execution_count": 12,
     "metadata": {},
     "output_type": "execute_result"
    }
   ],
   "source": [
    "data_test[['Honorific', 'delete1']] = data_test['Title_First_Name'].str.split('.', expand=True)\n",
    "data_test.drop (columns=['Title_First_Name','Last_Name','delete1', 'Name', 'Ticket','PassengerId'], inplace = True)\n",
    "data_test.head(5)"
   ]
  },
  {
   "cell_type": "code",
   "execution_count": 13,
   "metadata": {
    "scrolled": false
   },
   "outputs": [
    {
     "data": {
      "text/plain": [
       "array([<matplotlib.axes._subplots.AxesSubplot object at 0x00000170CF61B9D0>,\n",
       "       <matplotlib.axes._subplots.AxesSubplot object at 0x00000170CF6BBE50>],\n",
       "      dtype=object)"
      ]
     },
     "execution_count": 13,
     "metadata": {},
     "output_type": "execute_result"
    },
    {
     "data": {
      "image/png": "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\n",
      "text/plain": [
       "<Figure size 720x360 with 2 Axes>"
      ]
     },
     "metadata": {
      "needs_background": "light"
     },
     "output_type": "display_data"
    }
   ],
   "source": [
    "data.hist(column='Honorific',by='Survived', bins =50, figsize=(10,5))\n"
   ]
  },
  {
   "cell_type": "markdown",
   "metadata": {},
   "source": [
    "### taking a quick look at the outcome (survived vs died)"
   ]
  },
  {
   "cell_type": "code",
   "execution_count": 14,
   "metadata": {},
   "outputs": [
    {
     "data": {
      "text/plain": [
       "<matplotlib.axes._subplots.AxesSubplot at 0x170cf750760>"
      ]
     },
     "execution_count": 14,
     "metadata": {},
     "output_type": "execute_result"
    },
    {
     "data": {
      "image/png": "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\n",
      "text/plain": [
       "<Figure size 432x288 with 1 Axes>"
      ]
     },
     "metadata": {
      "needs_background": "light"
     },
     "output_type": "display_data"
    }
   ],
   "source": [
    "data['Survived'].value_counts().plot(kind='bar')"
   ]
  },
  {
   "cell_type": "code",
   "execution_count": 15,
   "metadata": {},
   "outputs": [
    {
     "data": {
      "text/plain": [
       "0    549\n",
       "1    342\n",
       "Name: Survived, dtype: int64"
      ]
     },
     "execution_count": 15,
     "metadata": {},
     "output_type": "execute_result"
    }
   ],
   "source": [
    "data.Survived.value_counts()"
   ]
  },
  {
   "cell_type": "markdown",
   "metadata": {},
   "source": [
    "### determining what types of honorifics used in dataset"
   ]
  },
  {
   "cell_type": "code",
   "execution_count": 16,
   "metadata": {},
   "outputs": [],
   "source": [
    "from matplotlib import pyplot as plt"
   ]
  },
  {
   "cell_type": "code",
   "execution_count": 17,
   "metadata": {},
   "outputs": [
    {
     "data": {
      "text/plain": [
       "<matplotlib.axes._subplots.AxesSubplot at 0x170cf920730>"
      ]
     },
     "execution_count": 17,
     "metadata": {},
     "output_type": "execute_result"
    },
    {
     "data": {
      "image/png": "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\n",
      "text/plain": [
       "<Figure size 432x288 with 1 Axes>"
      ]
     },
     "metadata": {
      "needs_background": "light"
     },
     "output_type": "display_data"
    }
   ],
   "source": [
    "data['Honorific'].value_counts().plot(kind='bar')\n"
   ]
  },
  {
   "cell_type": "code",
   "execution_count": 18,
   "metadata": {
    "scrolled": true
   },
   "outputs": [
    {
     "data": {
      "text/plain": [
       " Mr              517\n",
       " Miss            182\n",
       " Mrs             125\n",
       " Master           40\n",
       " Dr                7\n",
       " Rev               6\n",
       " Major             2\n",
       " Mlle              2\n",
       " Col               2\n",
       " Ms                1\n",
       " Jonkheer          1\n",
       " Mme               1\n",
       " Sir               1\n",
       " the Countess      1\n",
       " Capt              1\n",
       " Don               1\n",
       " Lady              1\n",
       "Name: Honorific, dtype: int64"
      ]
     },
     "execution_count": 18,
     "metadata": {},
     "output_type": "execute_result"
    }
   ],
   "source": [
    "data['Honorific'].value_counts()"
   ]
  },
  {
   "cell_type": "markdown",
   "metadata": {},
   "source": [
    "### some honorifics can be combined "
   ]
  },
  {
   "cell_type": "code",
   "execution_count": 19,
   "metadata": {},
   "outputs": [],
   "source": [
    "data.loc[data['Honorific']== ' Mme'] #Mrs\n",
    "data.loc[data['Honorific']== ' Ms'] #Miss\n",
    "data.loc[data['Honorific']== ' Mlle'] #Miss\n",
    "data.loc[data['Honorific']== ' the Countess'] #Lady\n",
    "data.loc[data['Honorific']== ' Jonkheer'] #Sir\n",
    "data.loc[data['Honorific']== ' Major'] #Col\n",
    "data.loc[data['Honorific']== ' Captain'] #Col\n",
    "data.loc[data['Honorific']== ' Don'] #Sir\n",
    "\n",
    "data.replace ({\" Mme\":\" Mrs\", \" Ms\":\" Miss\", \" Mlle\":\" Miss\",\" the Countess\":\" Lady\",\" Jonkheer\":\" Sir\",\" Major\":\" Col\",\n",
    "              \" Captain\":\" Col\", \" Don\":\" Sir\",}, inplace= True)"
   ]
  },
  {
   "cell_type": "code",
   "execution_count": 20,
   "metadata": {},
   "outputs": [],
   "source": [
    "data_test.replace ({\" Mme\":\" Mrs\", \" Ms\":\" Miss\", \" Mlle\":\" Miss\",\" the Countess\":\" Lady\",\" Jonkheer\":\" Sir\",\" Major\":\" Col\",\n",
    "              \" Captain\":\" Col\", \" Don\":\" Sir\",}, inplace= True)"
   ]
  },
  {
   "cell_type": "code",
   "execution_count": 21,
   "metadata": {},
   "outputs": [
    {
     "data": {
      "text/plain": [
       " Mr        517\n",
       " Miss      185\n",
       " Mrs       126\n",
       " Master     40\n",
       " Dr          7\n",
       " Rev         6\n",
       " Col         4\n",
       " Sir         3\n",
       " Lady        2\n",
       " Capt        1\n",
       "Name: Honorific, dtype: int64"
      ]
     },
     "execution_count": 21,
     "metadata": {},
     "output_type": "execute_result"
    }
   ],
   "source": [
    "data['Honorific'].value_counts()"
   ]
  },
  {
   "cell_type": "code",
   "execution_count": 22,
   "metadata": {},
   "outputs": [
    {
     "data": {
      "text/plain": [
       " Mr        228\n",
       " Miss      101\n",
       " Mrs        59\n",
       " Master     23\n",
       " Dr          3\n",
       " Rev         3\n",
       " Sir         1\n",
       "Name: Honorific, dtype: int64"
      ]
     },
     "execution_count": 22,
     "metadata": {},
     "output_type": "execute_result"
    }
   ],
   "source": [
    "data_test['Honorific'].value_counts()"
   ]
  },
  {
   "cell_type": "code",
   "execution_count": 23,
   "metadata": {},
   "outputs": [
    {
     "data": {
      "image/png": "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\n",
      "text/plain": [
       "<Figure size 720x360 with 2 Axes>"
      ]
     },
     "metadata": {
      "needs_background": "light"
     },
     "output_type": "display_data"
    }
   ],
   "source": [
    "data.hist(column='Honorific',by='Survived', bins =50, figsize=(10,5))\n",
    "plt.show()"
   ]
  },
  {
   "cell_type": "markdown",
   "metadata": {},
   "source": [
    "### Looking at the cabins people were placed in"
   ]
  },
  {
   "cell_type": "code",
   "execution_count": 24,
   "metadata": {},
   "outputs": [
    {
     "data": {
      "text/plain": [
       "array([nan, 'C85', 'C123', 'E46', 'G6', 'C103', 'D56', 'A6',\n",
       "       'C23 C25 C27', 'B78', 'D33', 'B30', 'C52', 'B28', 'C83', 'F33',\n",
       "       'F G73', 'E31', 'A5', 'D10 D12', 'D26', 'C110', 'B58 B60', 'E101',\n",
       "       'F E69', 'D47', 'B86', 'F2', 'C2', 'E33', 'B19', 'A7', 'C49', 'F4',\n",
       "       'A32', 'B4', 'B80', 'A31', 'D36', 'D15', 'C93', 'C78', 'D35',\n",
       "       'C87', 'B77', 'E67', 'B94', 'C125', 'C99', 'C118', 'D7', 'A19',\n",
       "       'B49', 'D', 'C22 C26', 'C106', 'C65', 'E36', 'C54',\n",
       "       'B57 B59 B63 B66', 'C7', 'E34', 'C32', 'B18', 'C124', 'C91', 'E40',\n",
       "       'T', 'C128', 'D37', 'B35', 'E50', 'C82', 'B96 B98', 'E10', 'E44',\n",
       "       'A34', 'C104', 'C111', 'C92', 'E38', 'D21', 'E12', 'E63', 'A14',\n",
       "       'B37', 'C30', 'D20', 'B79', 'E25', 'D46', 'B73', 'C95', 'B38',\n",
       "       'B39', 'B22', 'C86', 'C70', 'A16', 'C101', 'C68', 'A10', 'E68',\n",
       "       'B41', 'A20', 'D19', 'D50', 'D9', 'A23', 'B50', 'A26', 'D48',\n",
       "       'E58', 'C126', 'B71', 'B51 B53 B55', 'D49', 'B5', 'B20', 'F G63',\n",
       "       'C62 C64', 'E24', 'C90', 'C45', 'E8', 'B101', 'D45', 'C46', 'D30',\n",
       "       'E121', 'D11', 'E77', 'F38', 'B3', 'D6', 'B82 B84', 'D17', 'A36',\n",
       "       'B102', 'B69', 'E49', 'C47', 'D28', 'E17', 'A24', 'C50', 'B42',\n",
       "       'C148'], dtype=object)"
      ]
     },
     "execution_count": 24,
     "metadata": {},
     "output_type": "execute_result"
    }
   ],
   "source": [
    "data['Cabin'].unique()"
   ]
  },
  {
   "cell_type": "code",
   "execution_count": 25,
   "metadata": {},
   "outputs": [],
   "source": [
    "data['Cabin']= data['Cabin'].str[0] \n",
    "data_test ['Cabin']= data_test ['Cabin'].str[0]"
   ]
  },
  {
   "cell_type": "code",
   "execution_count": null,
   "metadata": {},
   "outputs": [],
   "source": []
  },
  {
   "cell_type": "markdown",
   "metadata": {},
   "source": [
    "### apart from nan data, analyzing to see if cabins had any relation on survival."
   ]
  },
  {
   "cell_type": "code",
   "execution_count": 26,
   "metadata": {},
   "outputs": [
    {
     "data": {
      "image/png": "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\n",
      "text/plain": [
       "<Figure size 720x360 with 2 Axes>"
      ]
     },
     "metadata": {
      "needs_background": "light"
     },
     "output_type": "display_data"
    }
   ],
   "source": [
    "data.hist(column='Cabin',by='Survived', bins =50, figsize=(10,5))\n",
    "plt.show()"
   ]
  },
  {
   "cell_type": "code",
   "execution_count": 27,
   "metadata": {},
   "outputs": [
    {
     "data": {
      "text/plain": [
       "Survived       0\n",
       "Pclass         0\n",
       "Sex            0\n",
       "Age          177\n",
       "SibSp          0\n",
       "Parch          0\n",
       "Fare           0\n",
       "Cabin        687\n",
       "Embarked       2\n",
       "Honorific      0\n",
       "dtype: int64"
      ]
     },
     "execution_count": 27,
     "metadata": {},
     "output_type": "execute_result"
    }
   ],
   "source": [
    "data.isna().sum()"
   ]
  },
  {
   "cell_type": "code",
   "execution_count": 28,
   "metadata": {},
   "outputs": [
    {
     "data": {
      "text/plain": [
       "Pclass         0\n",
       "Sex            0\n",
       "Age           86\n",
       "SibSp          0\n",
       "Parch          0\n",
       "Fare           1\n",
       "Cabin        327\n",
       "Embarked       0\n",
       "Honorific      0\n",
       "dtype: int64"
      ]
     },
     "execution_count": 28,
     "metadata": {},
     "output_type": "execute_result"
    }
   ],
   "source": [
    "data_test.isna().sum()"
   ]
  },
  {
   "cell_type": "markdown",
   "metadata": {},
   "source": [
    "### nearly 80% of the data in 'Cabin' is missing for both the test and train set. We will drop that column"
   ]
  },
  {
   "cell_type": "code",
   "execution_count": 29,
   "metadata": {},
   "outputs": [],
   "source": [
    "df = data.drop (columns = ['Cabin'])\n",
    "df_test = data_test.drop (columns = ['Cabin'])"
   ]
  },
  {
   "cell_type": "markdown",
   "metadata": {},
   "source": [
    "### Looking for null values in new dataframe"
   ]
  },
  {
   "cell_type": "code",
   "execution_count": 30,
   "metadata": {
    "scrolled": true
   },
   "outputs": [
    {
     "data": {
      "text/plain": [
       "Survived       0\n",
       "Pclass         0\n",
       "Sex            0\n",
       "Age          177\n",
       "SibSp          0\n",
       "Parch          0\n",
       "Fare           0\n",
       "Embarked       2\n",
       "Honorific      0\n",
       "dtype: int64"
      ]
     },
     "execution_count": 30,
     "metadata": {},
     "output_type": "execute_result"
    }
   ],
   "source": [
    "df.isna().sum()"
   ]
  },
  {
   "cell_type": "code",
   "execution_count": 31,
   "metadata": {},
   "outputs": [
    {
     "data": {
      "text/plain": [
       "Pclass        0\n",
       "Sex           0\n",
       "Age          86\n",
       "SibSp         0\n",
       "Parch         0\n",
       "Fare          1\n",
       "Embarked      0\n",
       "Honorific     0\n",
       "dtype: int64"
      ]
     },
     "execution_count": 31,
     "metadata": {},
     "output_type": "execute_result"
    }
   ],
   "source": [
    "df_test.isna().sum()"
   ]
  },
  {
   "cell_type": "markdown",
   "metadata": {},
   "source": [
    "### Going to use KNN imputer to fill nan values but first we have to encode the string data. sklearn encoders do not accept data with null values, so we have to first convert nan to string"
   ]
  },
  {
   "cell_type": "code",
   "execution_count": 32,
   "metadata": {},
   "outputs": [],
   "source": [
    "df['Embarked'].fillna('NAN', inplace=True)"
   ]
  },
  {
   "cell_type": "markdown",
   "metadata": {},
   "source": [
    "### encoding the string data"
   ]
  },
  {
   "cell_type": "code",
   "execution_count": 33,
   "metadata": {},
   "outputs": [],
   "source": [
    "from sklearn.preprocessing import OneHotEncoder\n",
    "ohe = OneHotEncoder(sparse=False)"
   ]
  },
  {
   "cell_type": "code",
   "execution_count": 34,
   "metadata": {},
   "outputs": [
    {
     "data": {
      "text/plain": [
       "Survived       int64\n",
       "Pclass         int64\n",
       "Sex           object\n",
       "Age          float64\n",
       "SibSp          int64\n",
       "Parch          int64\n",
       "Fare         float64\n",
       "Embarked      object\n",
       "Honorific     object\n",
       "dtype: object"
      ]
     },
     "execution_count": 34,
     "metadata": {},
     "output_type": "execute_result"
    }
   ],
   "source": [
    "df.dtypes"
   ]
  },
  {
   "cell_type": "code",
   "execution_count": 35,
   "metadata": {},
   "outputs": [],
   "source": [
    "Honorific = df[\"Honorific\"].to_numpy().reshape(-1,1)\n",
    "Sex = df[\"Sex\"].to_numpy().reshape(-1,1)\n",
    "Embarked = df[\"Embarked\"].to_numpy().reshape(-1,1)"
   ]
  },
  {
   "cell_type": "code",
   "execution_count": 36,
   "metadata": {},
   "outputs": [
    {
     "name": "stdout",
     "output_type": "stream",
     "text": [
      "Honorific [array([' Capt', ' Col', ' Dr', ' Lady', ' Master', ' Miss', ' Mr', ' Mrs',\n",
      "       ' Rev', ' Sir'], dtype=object)]\n",
      "Sex [array(['female', 'male'], dtype=object)]\n",
      "Embarked [array(['C', 'NAN', 'Q', 'S'], dtype=object)]\n"
     ]
    }
   ],
   "source": [
    "Honorific = ohe.fit_transform(Honorific)\n",
    "print (\"Honorific\", ohe.categories_)\n",
    "Sex = ohe.fit_transform(Sex)\n",
    "print (\"Sex\", ohe.categories_)\n",
    "Embarked = ohe.fit_transform(Embarked)\n",
    "print (\"Embarked\", ohe.categories_)"
   ]
  },
  {
   "cell_type": "markdown",
   "metadata": {},
   "source": [
    "### Replacing 'NAN' string values back to null values and dropping the NAN columns for Columns: Embarked"
   ]
  },
  {
   "cell_type": "code",
   "execution_count": 37,
   "metadata": {},
   "outputs": [
    {
     "name": "stdout",
     "output_type": "stream",
     "text": [
      "[0. 1. 0. 0.]\n",
      "[nan nan nan nan]\n",
      "[0. 1. 0. 0.]\n",
      "[nan nan nan nan]\n"
     ]
    }
   ],
   "source": [
    "for i in Embarked:\n",
    "    if i[1] == 1.0:\n",
    "        print (i)\n",
    "        for j in range (len(i)):\n",
    "            i[j] = np.nan\n",
    "        print (i)"
   ]
  },
  {
   "cell_type": "code",
   "execution_count": 38,
   "metadata": {},
   "outputs": [
    {
     "data": {
      "text/html": [
       "<div>\n",
       "<style scoped>\n",
       "    .dataframe tbody tr th:only-of-type {\n",
       "        vertical-align: middle;\n",
       "    }\n",
       "\n",
       "    .dataframe tbody tr th {\n",
       "        vertical-align: top;\n",
       "    }\n",
       "\n",
       "    .dataframe thead th {\n",
       "        text-align: right;\n",
       "    }\n",
       "</style>\n",
       "<table border=\"1\" class=\"dataframe\">\n",
       "  <thead>\n",
       "    <tr style=\"text-align: right;\">\n",
       "      <th></th>\n",
       "      <th>C</th>\n",
       "      <th>NAN</th>\n",
       "      <th>Q</th>\n",
       "      <th>S</th>\n",
       "    </tr>\n",
       "  </thead>\n",
       "  <tbody>\n",
       "    <tr>\n",
       "      <th>61</th>\n",
       "      <td>NaN</td>\n",
       "      <td>NaN</td>\n",
       "      <td>NaN</td>\n",
       "      <td>NaN</td>\n",
       "    </tr>\n",
       "    <tr>\n",
       "      <th>829</th>\n",
       "      <td>NaN</td>\n",
       "      <td>NaN</td>\n",
       "      <td>NaN</td>\n",
       "      <td>NaN</td>\n",
       "    </tr>\n",
       "  </tbody>\n",
       "</table>\n",
       "</div>"
      ],
      "text/plain": [
       "      C  NAN   Q   S\n",
       "61  NaN  NaN NaN NaN\n",
       "829 NaN  NaN NaN NaN"
      ]
     },
     "execution_count": 38,
     "metadata": {},
     "output_type": "execute_result"
    }
   ],
   "source": [
    "Emb = pd.DataFrame (Embarked, columns=['C', 'NAN', 'Q', 'S'])\n",
    "Emb.loc[Emb['NAN'].isnull()== True]"
   ]
  },
  {
   "cell_type": "code",
   "execution_count": 39,
   "metadata": {},
   "outputs": [
    {
     "data": {
      "text/html": [
       "<div>\n",
       "<style scoped>\n",
       "    .dataframe tbody tr th:only-of-type {\n",
       "        vertical-align: middle;\n",
       "    }\n",
       "\n",
       "    .dataframe tbody tr th {\n",
       "        vertical-align: top;\n",
       "    }\n",
       "\n",
       "    .dataframe thead th {\n",
       "        text-align: right;\n",
       "    }\n",
       "</style>\n",
       "<table border=\"1\" class=\"dataframe\">\n",
       "  <thead>\n",
       "    <tr style=\"text-align: right;\">\n",
       "      <th></th>\n",
       "      <th>C</th>\n",
       "      <th>Q</th>\n",
       "      <th>S</th>\n",
       "    </tr>\n",
       "  </thead>\n",
       "  <tbody>\n",
       "    <tr>\n",
       "      <th>0</th>\n",
       "      <td>0.0</td>\n",
       "      <td>0.0</td>\n",
       "      <td>1.0</td>\n",
       "    </tr>\n",
       "    <tr>\n",
       "      <th>1</th>\n",
       "      <td>1.0</td>\n",
       "      <td>0.0</td>\n",
       "      <td>0.0</td>\n",
       "    </tr>\n",
       "    <tr>\n",
       "      <th>2</th>\n",
       "      <td>0.0</td>\n",
       "      <td>0.0</td>\n",
       "      <td>1.0</td>\n",
       "    </tr>\n",
       "    <tr>\n",
       "      <th>3</th>\n",
       "      <td>0.0</td>\n",
       "      <td>0.0</td>\n",
       "      <td>1.0</td>\n",
       "    </tr>\n",
       "    <tr>\n",
       "      <th>4</th>\n",
       "      <td>0.0</td>\n",
       "      <td>0.0</td>\n",
       "      <td>1.0</td>\n",
       "    </tr>\n",
       "  </tbody>\n",
       "</table>\n",
       "</div>"
      ],
      "text/plain": [
       "     C    Q    S\n",
       "0  0.0  0.0  1.0\n",
       "1  1.0  0.0  0.0\n",
       "2  0.0  0.0  1.0\n",
       "3  0.0  0.0  1.0\n",
       "4  0.0  0.0  1.0"
      ]
     },
     "execution_count": 39,
     "metadata": {},
     "output_type": "execute_result"
    }
   ],
   "source": [
    "Emb.drop(columns=['NAN'], inplace =True)\n",
    "Emb.head(5)"
   ]
  },
  {
   "cell_type": "markdown",
   "metadata": {},
   "source": [
    "### creating Dataframes from other two columns in order to combine with df dataframe"
   ]
  },
  {
   "cell_type": "code",
   "execution_count": 40,
   "metadata": {},
   "outputs": [],
   "source": [
    "Honorific = pd.DataFrame (Honorific, columns = ['Capt', 'Col', 'Dr', 'Lady', 'Master', 'Miss', 'Mr', 'Mrs','Rev', 'Sir'])\n",
    "Sex = pd.DataFrame (Sex, columns = ['female', 'male'])"
   ]
  },
  {
   "cell_type": "code",
   "execution_count": 41,
   "metadata": {
    "scrolled": true
   },
   "outputs": [
    {
     "data": {
      "text/html": [
       "<div>\n",
       "<style scoped>\n",
       "    .dataframe tbody tr th:only-of-type {\n",
       "        vertical-align: middle;\n",
       "    }\n",
       "\n",
       "    .dataframe tbody tr th {\n",
       "        vertical-align: top;\n",
       "    }\n",
       "\n",
       "    .dataframe thead th {\n",
       "        text-align: right;\n",
       "    }\n",
       "</style>\n",
       "<table border=\"1\" class=\"dataframe\">\n",
       "  <thead>\n",
       "    <tr style=\"text-align: right;\">\n",
       "      <th></th>\n",
       "      <th>Survived</th>\n",
       "      <th>Pclass</th>\n",
       "      <th>Age</th>\n",
       "      <th>SibSp</th>\n",
       "      <th>Parch</th>\n",
       "      <th>Fare</th>\n",
       "      <th>C</th>\n",
       "      <th>Q</th>\n",
       "      <th>S</th>\n",
       "      <th>Capt</th>\n",
       "      <th>...</th>\n",
       "      <th>Dr</th>\n",
       "      <th>Lady</th>\n",
       "      <th>Master</th>\n",
       "      <th>Miss</th>\n",
       "      <th>Mr</th>\n",
       "      <th>Mrs</th>\n",
       "      <th>Rev</th>\n",
       "      <th>Sir</th>\n",
       "      <th>female</th>\n",
       "      <th>male</th>\n",
       "    </tr>\n",
       "  </thead>\n",
       "  <tbody>\n",
       "    <tr>\n",
       "      <th>0</th>\n",
       "      <td>0</td>\n",
       "      <td>3</td>\n",
       "      <td>22.0</td>\n",
       "      <td>1</td>\n",
       "      <td>0</td>\n",
       "      <td>7.2500</td>\n",
       "      <td>0.0</td>\n",
       "      <td>0.0</td>\n",
       "      <td>1.0</td>\n",
       "      <td>0.0</td>\n",
       "      <td>...</td>\n",
       "      <td>0.0</td>\n",
       "      <td>0.0</td>\n",
       "      <td>0.0</td>\n",
       "      <td>0.0</td>\n",
       "      <td>1.0</td>\n",
       "      <td>0.0</td>\n",
       "      <td>0.0</td>\n",
       "      <td>0.0</td>\n",
       "      <td>0.0</td>\n",
       "      <td>1.0</td>\n",
       "    </tr>\n",
       "    <tr>\n",
       "      <th>1</th>\n",
       "      <td>1</td>\n",
       "      <td>1</td>\n",
       "      <td>38.0</td>\n",
       "      <td>1</td>\n",
       "      <td>0</td>\n",
       "      <td>71.2833</td>\n",
       "      <td>1.0</td>\n",
       "      <td>0.0</td>\n",
       "      <td>0.0</td>\n",
       "      <td>0.0</td>\n",
       "      <td>...</td>\n",
       "      <td>0.0</td>\n",
       "      <td>0.0</td>\n",
       "      <td>0.0</td>\n",
       "      <td>0.0</td>\n",
       "      <td>0.0</td>\n",
       "      <td>1.0</td>\n",
       "      <td>0.0</td>\n",
       "      <td>0.0</td>\n",
       "      <td>1.0</td>\n",
       "      <td>0.0</td>\n",
       "    </tr>\n",
       "    <tr>\n",
       "      <th>2</th>\n",
       "      <td>1</td>\n",
       "      <td>3</td>\n",
       "      <td>26.0</td>\n",
       "      <td>0</td>\n",
       "      <td>0</td>\n",
       "      <td>7.9250</td>\n",
       "      <td>0.0</td>\n",
       "      <td>0.0</td>\n",
       "      <td>1.0</td>\n",
       "      <td>0.0</td>\n",
       "      <td>...</td>\n",
       "      <td>0.0</td>\n",
       "      <td>0.0</td>\n",
       "      <td>0.0</td>\n",
       "      <td>1.0</td>\n",
       "      <td>0.0</td>\n",
       "      <td>0.0</td>\n",
       "      <td>0.0</td>\n",
       "      <td>0.0</td>\n",
       "      <td>1.0</td>\n",
       "      <td>0.0</td>\n",
       "    </tr>\n",
       "    <tr>\n",
       "      <th>3</th>\n",
       "      <td>1</td>\n",
       "      <td>1</td>\n",
       "      <td>35.0</td>\n",
       "      <td>1</td>\n",
       "      <td>0</td>\n",
       "      <td>53.1000</td>\n",
       "      <td>0.0</td>\n",
       "      <td>0.0</td>\n",
       "      <td>1.0</td>\n",
       "      <td>0.0</td>\n",
       "      <td>...</td>\n",
       "      <td>0.0</td>\n",
       "      <td>0.0</td>\n",
       "      <td>0.0</td>\n",
       "      <td>0.0</td>\n",
       "      <td>0.0</td>\n",
       "      <td>1.0</td>\n",
       "      <td>0.0</td>\n",
       "      <td>0.0</td>\n",
       "      <td>1.0</td>\n",
       "      <td>0.0</td>\n",
       "    </tr>\n",
       "    <tr>\n",
       "      <th>4</th>\n",
       "      <td>0</td>\n",
       "      <td>3</td>\n",
       "      <td>35.0</td>\n",
       "      <td>0</td>\n",
       "      <td>0</td>\n",
       "      <td>8.0500</td>\n",
       "      <td>0.0</td>\n",
       "      <td>0.0</td>\n",
       "      <td>1.0</td>\n",
       "      <td>0.0</td>\n",
       "      <td>...</td>\n",
       "      <td>0.0</td>\n",
       "      <td>0.0</td>\n",
       "      <td>0.0</td>\n",
       "      <td>0.0</td>\n",
       "      <td>1.0</td>\n",
       "      <td>0.0</td>\n",
       "      <td>0.0</td>\n",
       "      <td>0.0</td>\n",
       "      <td>0.0</td>\n",
       "      <td>1.0</td>\n",
       "    </tr>\n",
       "  </tbody>\n",
       "</table>\n",
       "<p>5 rows × 21 columns</p>\n",
       "</div>"
      ],
      "text/plain": [
       "   Survived  Pclass   Age  SibSp  Parch     Fare    C    Q    S  Capt  ...  \\\n",
       "0         0       3  22.0      1      0   7.2500  0.0  0.0  1.0   0.0  ...   \n",
       "1         1       1  38.0      1      0  71.2833  1.0  0.0  0.0   0.0  ...   \n",
       "2         1       3  26.0      0      0   7.9250  0.0  0.0  1.0   0.0  ...   \n",
       "3         1       1  35.0      1      0  53.1000  0.0  0.0  1.0   0.0  ...   \n",
       "4         0       3  35.0      0      0   8.0500  0.0  0.0  1.0   0.0  ...   \n",
       "\n",
       "    Dr  Lady  Master  Miss   Mr  Mrs  Rev  Sir  female  male  \n",
       "0  0.0   0.0     0.0   0.0  1.0  0.0  0.0  0.0     0.0   1.0  \n",
       "1  0.0   0.0     0.0   0.0  0.0  1.0  0.0  0.0     1.0   0.0  \n",
       "2  0.0   0.0     0.0   1.0  0.0  0.0  0.0  0.0     1.0   0.0  \n",
       "3  0.0   0.0     0.0   0.0  0.0  1.0  0.0  0.0     1.0   0.0  \n",
       "4  0.0   0.0     0.0   0.0  1.0  0.0  0.0  0.0     0.0   1.0  \n",
       "\n",
       "[5 rows x 21 columns]"
      ]
     },
     "execution_count": 41,
     "metadata": {},
     "output_type": "execute_result"
    }
   ],
   "source": [
    "df.drop (columns=['Embarked','Sex','Honorific'], inplace=True)\n",
    "df = df.join(Emb)\n",
    "df = df.join (Honorific)\n",
    "df = df.join (Sex)\n",
    "\n",
    "df.head(5)"
   ]
  },
  {
   "cell_type": "markdown",
   "metadata": {},
   "source": [
    "### using KNN imputer to fill null values, but first using sklearns minmax scaler to scale non-categorical data."
   ]
  },
  {
   "cell_type": "code",
   "execution_count": 42,
   "metadata": {},
   "outputs": [],
   "source": [
    "from sklearn.preprocessing import MinMaxScaler\n",
    "from sklearn.impute import KNNImputer\n",
    "minmax =  MinMaxScaler()"
   ]
  },
  {
   "cell_type": "code",
   "execution_count": 43,
   "metadata": {},
   "outputs": [
    {
     "data": {
      "text/html": [
       "<div>\n",
       "<style scoped>\n",
       "    .dataframe tbody tr th:only-of-type {\n",
       "        vertical-align: middle;\n",
       "    }\n",
       "\n",
       "    .dataframe tbody tr th {\n",
       "        vertical-align: top;\n",
       "    }\n",
       "\n",
       "    .dataframe thead th {\n",
       "        text-align: right;\n",
       "    }\n",
       "</style>\n",
       "<table border=\"1\" class=\"dataframe\">\n",
       "  <thead>\n",
       "    <tr style=\"text-align: right;\">\n",
       "      <th></th>\n",
       "      <th>Survived</th>\n",
       "      <th>Pclass</th>\n",
       "      <th>Age</th>\n",
       "      <th>SibSp</th>\n",
       "      <th>Parch</th>\n",
       "      <th>Fare</th>\n",
       "      <th>C</th>\n",
       "      <th>Q</th>\n",
       "      <th>S</th>\n",
       "      <th>Capt</th>\n",
       "      <th>...</th>\n",
       "      <th>Dr</th>\n",
       "      <th>Lady</th>\n",
       "      <th>Master</th>\n",
       "      <th>Miss</th>\n",
       "      <th>Mr</th>\n",
       "      <th>Mrs</th>\n",
       "      <th>Rev</th>\n",
       "      <th>Sir</th>\n",
       "      <th>female</th>\n",
       "      <th>male</th>\n",
       "    </tr>\n",
       "  </thead>\n",
       "  <tbody>\n",
       "    <tr>\n",
       "      <th>0</th>\n",
       "      <td>0</td>\n",
       "      <td>3</td>\n",
       "      <td>22.0</td>\n",
       "      <td>1</td>\n",
       "      <td>0</td>\n",
       "      <td>7.2500</td>\n",
       "      <td>0.0</td>\n",
       "      <td>0.0</td>\n",
       "      <td>1.0</td>\n",
       "      <td>0.0</td>\n",
       "      <td>...</td>\n",
       "      <td>0.0</td>\n",
       "      <td>0.0</td>\n",
       "      <td>0.0</td>\n",
       "      <td>0.0</td>\n",
       "      <td>1.0</td>\n",
       "      <td>0.0</td>\n",
       "      <td>0.0</td>\n",
       "      <td>0.0</td>\n",
       "      <td>0.0</td>\n",
       "      <td>1.0</td>\n",
       "    </tr>\n",
       "    <tr>\n",
       "      <th>1</th>\n",
       "      <td>1</td>\n",
       "      <td>1</td>\n",
       "      <td>38.0</td>\n",
       "      <td>1</td>\n",
       "      <td>0</td>\n",
       "      <td>71.2833</td>\n",
       "      <td>1.0</td>\n",
       "      <td>0.0</td>\n",
       "      <td>0.0</td>\n",
       "      <td>0.0</td>\n",
       "      <td>...</td>\n",
       "      <td>0.0</td>\n",
       "      <td>0.0</td>\n",
       "      <td>0.0</td>\n",
       "      <td>0.0</td>\n",
       "      <td>0.0</td>\n",
       "      <td>1.0</td>\n",
       "      <td>0.0</td>\n",
       "      <td>0.0</td>\n",
       "      <td>1.0</td>\n",
       "      <td>0.0</td>\n",
       "    </tr>\n",
       "    <tr>\n",
       "      <th>2</th>\n",
       "      <td>1</td>\n",
       "      <td>3</td>\n",
       "      <td>26.0</td>\n",
       "      <td>0</td>\n",
       "      <td>0</td>\n",
       "      <td>7.9250</td>\n",
       "      <td>0.0</td>\n",
       "      <td>0.0</td>\n",
       "      <td>1.0</td>\n",
       "      <td>0.0</td>\n",
       "      <td>...</td>\n",
       "      <td>0.0</td>\n",
       "      <td>0.0</td>\n",
       "      <td>0.0</td>\n",
       "      <td>1.0</td>\n",
       "      <td>0.0</td>\n",
       "      <td>0.0</td>\n",
       "      <td>0.0</td>\n",
       "      <td>0.0</td>\n",
       "      <td>1.0</td>\n",
       "      <td>0.0</td>\n",
       "    </tr>\n",
       "    <tr>\n",
       "      <th>3</th>\n",
       "      <td>1</td>\n",
       "      <td>1</td>\n",
       "      <td>35.0</td>\n",
       "      <td>1</td>\n",
       "      <td>0</td>\n",
       "      <td>53.1000</td>\n",
       "      <td>0.0</td>\n",
       "      <td>0.0</td>\n",
       "      <td>1.0</td>\n",
       "      <td>0.0</td>\n",
       "      <td>...</td>\n",
       "      <td>0.0</td>\n",
       "      <td>0.0</td>\n",
       "      <td>0.0</td>\n",
       "      <td>0.0</td>\n",
       "      <td>0.0</td>\n",
       "      <td>1.0</td>\n",
       "      <td>0.0</td>\n",
       "      <td>0.0</td>\n",
       "      <td>1.0</td>\n",
       "      <td>0.0</td>\n",
       "    </tr>\n",
       "    <tr>\n",
       "      <th>4</th>\n",
       "      <td>0</td>\n",
       "      <td>3</td>\n",
       "      <td>35.0</td>\n",
       "      <td>0</td>\n",
       "      <td>0</td>\n",
       "      <td>8.0500</td>\n",
       "      <td>0.0</td>\n",
       "      <td>0.0</td>\n",
       "      <td>1.0</td>\n",
       "      <td>0.0</td>\n",
       "      <td>...</td>\n",
       "      <td>0.0</td>\n",
       "      <td>0.0</td>\n",
       "      <td>0.0</td>\n",
       "      <td>0.0</td>\n",
       "      <td>1.0</td>\n",
       "      <td>0.0</td>\n",
       "      <td>0.0</td>\n",
       "      <td>0.0</td>\n",
       "      <td>0.0</td>\n",
       "      <td>1.0</td>\n",
       "    </tr>\n",
       "  </tbody>\n",
       "</table>\n",
       "<p>5 rows × 21 columns</p>\n",
       "</div>"
      ],
      "text/plain": [
       "   Survived  Pclass   Age  SibSp  Parch     Fare    C    Q    S  Capt  ...  \\\n",
       "0         0       3  22.0      1      0   7.2500  0.0  0.0  1.0   0.0  ...   \n",
       "1         1       1  38.0      1      0  71.2833  1.0  0.0  0.0   0.0  ...   \n",
       "2         1       3  26.0      0      0   7.9250  0.0  0.0  1.0   0.0  ...   \n",
       "3         1       1  35.0      1      0  53.1000  0.0  0.0  1.0   0.0  ...   \n",
       "4         0       3  35.0      0      0   8.0500  0.0  0.0  1.0   0.0  ...   \n",
       "\n",
       "    Dr  Lady  Master  Miss   Mr  Mrs  Rev  Sir  female  male  \n",
       "0  0.0   0.0     0.0   0.0  1.0  0.0  0.0  0.0     0.0   1.0  \n",
       "1  0.0   0.0     0.0   0.0  0.0  1.0  0.0  0.0     1.0   0.0  \n",
       "2  0.0   0.0     0.0   1.0  0.0  0.0  0.0  0.0     1.0   0.0  \n",
       "3  0.0   0.0     0.0   0.0  0.0  1.0  0.0  0.0     1.0   0.0  \n",
       "4  0.0   0.0     0.0   0.0  1.0  0.0  0.0  0.0     0.0   1.0  \n",
       "\n",
       "[5 rows x 21 columns]"
      ]
     },
     "execution_count": 43,
     "metadata": {},
     "output_type": "execute_result"
    }
   ],
   "source": [
    "df.head()"
   ]
  },
  {
   "cell_type": "code",
   "execution_count": 44,
   "metadata": {},
   "outputs": [
    {
     "data": {
      "text/html": [
       "<div>\n",
       "<style scoped>\n",
       "    .dataframe tbody tr th:only-of-type {\n",
       "        vertical-align: middle;\n",
       "    }\n",
       "\n",
       "    .dataframe tbody tr th {\n",
       "        vertical-align: top;\n",
       "    }\n",
       "\n",
       "    .dataframe thead th {\n",
       "        text-align: right;\n",
       "    }\n",
       "</style>\n",
       "<table border=\"1\" class=\"dataframe\">\n",
       "  <thead>\n",
       "    <tr style=\"text-align: right;\">\n",
       "      <th></th>\n",
       "      <th>Survived</th>\n",
       "      <th>Pclass</th>\n",
       "      <th>Age</th>\n",
       "      <th>SibSp</th>\n",
       "      <th>Parch</th>\n",
       "      <th>Fare</th>\n",
       "      <th>C</th>\n",
       "      <th>Q</th>\n",
       "      <th>S</th>\n",
       "      <th>Capt</th>\n",
       "      <th>...</th>\n",
       "      <th>Dr</th>\n",
       "      <th>Lady</th>\n",
       "      <th>Master</th>\n",
       "      <th>Miss</th>\n",
       "      <th>Mr</th>\n",
       "      <th>Mrs</th>\n",
       "      <th>Rev</th>\n",
       "      <th>Sir</th>\n",
       "      <th>female</th>\n",
       "      <th>male</th>\n",
       "    </tr>\n",
       "  </thead>\n",
       "  <tbody>\n",
       "    <tr>\n",
       "      <th>0</th>\n",
       "      <td>0</td>\n",
       "      <td>3</td>\n",
       "      <td>0.271174</td>\n",
       "      <td>1</td>\n",
       "      <td>0</td>\n",
       "      <td>0.014151</td>\n",
       "      <td>0.0</td>\n",
       "      <td>0.0</td>\n",
       "      <td>1.0</td>\n",
       "      <td>0.0</td>\n",
       "      <td>...</td>\n",
       "      <td>0.0</td>\n",
       "      <td>0.0</td>\n",
       "      <td>0.0</td>\n",
       "      <td>0.0</td>\n",
       "      <td>1.0</td>\n",
       "      <td>0.0</td>\n",
       "      <td>0.0</td>\n",
       "      <td>0.0</td>\n",
       "      <td>0.0</td>\n",
       "      <td>1.0</td>\n",
       "    </tr>\n",
       "    <tr>\n",
       "      <th>1</th>\n",
       "      <td>1</td>\n",
       "      <td>1</td>\n",
       "      <td>0.472229</td>\n",
       "      <td>1</td>\n",
       "      <td>0</td>\n",
       "      <td>0.139136</td>\n",
       "      <td>1.0</td>\n",
       "      <td>0.0</td>\n",
       "      <td>0.0</td>\n",
       "      <td>0.0</td>\n",
       "      <td>...</td>\n",
       "      <td>0.0</td>\n",
       "      <td>0.0</td>\n",
       "      <td>0.0</td>\n",
       "      <td>0.0</td>\n",
       "      <td>0.0</td>\n",
       "      <td>1.0</td>\n",
       "      <td>0.0</td>\n",
       "      <td>0.0</td>\n",
       "      <td>1.0</td>\n",
       "      <td>0.0</td>\n",
       "    </tr>\n",
       "    <tr>\n",
       "      <th>2</th>\n",
       "      <td>1</td>\n",
       "      <td>3</td>\n",
       "      <td>0.321438</td>\n",
       "      <td>0</td>\n",
       "      <td>0</td>\n",
       "      <td>0.015469</td>\n",
       "      <td>0.0</td>\n",
       "      <td>0.0</td>\n",
       "      <td>1.0</td>\n",
       "      <td>0.0</td>\n",
       "      <td>...</td>\n",
       "      <td>0.0</td>\n",
       "      <td>0.0</td>\n",
       "      <td>0.0</td>\n",
       "      <td>1.0</td>\n",
       "      <td>0.0</td>\n",
       "      <td>0.0</td>\n",
       "      <td>0.0</td>\n",
       "      <td>0.0</td>\n",
       "      <td>1.0</td>\n",
       "      <td>0.0</td>\n",
       "    </tr>\n",
       "    <tr>\n",
       "      <th>3</th>\n",
       "      <td>1</td>\n",
       "      <td>1</td>\n",
       "      <td>0.434531</td>\n",
       "      <td>1</td>\n",
       "      <td>0</td>\n",
       "      <td>0.103644</td>\n",
       "      <td>0.0</td>\n",
       "      <td>0.0</td>\n",
       "      <td>1.0</td>\n",
       "      <td>0.0</td>\n",
       "      <td>...</td>\n",
       "      <td>0.0</td>\n",
       "      <td>0.0</td>\n",
       "      <td>0.0</td>\n",
       "      <td>0.0</td>\n",
       "      <td>0.0</td>\n",
       "      <td>1.0</td>\n",
       "      <td>0.0</td>\n",
       "      <td>0.0</td>\n",
       "      <td>1.0</td>\n",
       "      <td>0.0</td>\n",
       "    </tr>\n",
       "    <tr>\n",
       "      <th>4</th>\n",
       "      <td>0</td>\n",
       "      <td>3</td>\n",
       "      <td>0.434531</td>\n",
       "      <td>0</td>\n",
       "      <td>0</td>\n",
       "      <td>0.015713</td>\n",
       "      <td>0.0</td>\n",
       "      <td>0.0</td>\n",
       "      <td>1.0</td>\n",
       "      <td>0.0</td>\n",
       "      <td>...</td>\n",
       "      <td>0.0</td>\n",
       "      <td>0.0</td>\n",
       "      <td>0.0</td>\n",
       "      <td>0.0</td>\n",
       "      <td>1.0</td>\n",
       "      <td>0.0</td>\n",
       "      <td>0.0</td>\n",
       "      <td>0.0</td>\n",
       "      <td>0.0</td>\n",
       "      <td>1.0</td>\n",
       "    </tr>\n",
       "  </tbody>\n",
       "</table>\n",
       "<p>5 rows × 21 columns</p>\n",
       "</div>"
      ],
      "text/plain": [
       "   Survived  Pclass       Age  SibSp  Parch      Fare    C    Q    S  Capt  \\\n",
       "0         0       3  0.271174      1      0  0.014151  0.0  0.0  1.0   0.0   \n",
       "1         1       1  0.472229      1      0  0.139136  1.0  0.0  0.0   0.0   \n",
       "2         1       3  0.321438      0      0  0.015469  0.0  0.0  1.0   0.0   \n",
       "3         1       1  0.434531      1      0  0.103644  0.0  0.0  1.0   0.0   \n",
       "4         0       3  0.434531      0      0  0.015713  0.0  0.0  1.0   0.0   \n",
       "\n",
       "   ...   Dr  Lady  Master  Miss   Mr  Mrs  Rev  Sir  female  male  \n",
       "0  ...  0.0   0.0     0.0   0.0  1.0  0.0  0.0  0.0     0.0   1.0  \n",
       "1  ...  0.0   0.0     0.0   0.0  0.0  1.0  0.0  0.0     1.0   0.0  \n",
       "2  ...  0.0   0.0     0.0   1.0  0.0  0.0  0.0  0.0     1.0   0.0  \n",
       "3  ...  0.0   0.0     0.0   0.0  0.0  1.0  0.0  0.0     1.0   0.0  \n",
       "4  ...  0.0   0.0     0.0   0.0  1.0  0.0  0.0  0.0     0.0   1.0  \n",
       "\n",
       "[5 rows x 21 columns]"
      ]
     },
     "execution_count": 44,
     "metadata": {},
     "output_type": "execute_result"
    }
   ],
   "source": [
    "df[['Age', 'Fare']] = pd.DataFrame(minmax.fit_transform(df[['Age', 'Fare']]), columns = [['Age', 'Fare']])\n",
    "df.head()"
   ]
  },
  {
   "cell_type": "code",
   "execution_count": 45,
   "metadata": {},
   "outputs": [],
   "source": [
    "imputer = KNNImputer(n_neighbors=5)\n",
    "df = pd.DataFrame(imputer.fit_transform(df),columns = df.columns)"
   ]
  },
  {
   "cell_type": "code",
   "execution_count": 46,
   "metadata": {},
   "outputs": [
    {
     "data": {
      "text/plain": [
       "array([False])"
      ]
     },
     "execution_count": 46,
     "metadata": {},
     "output_type": "execute_result"
    }
   ],
   "source": [
    "df.isnull().any().unique()"
   ]
  },
  {
   "cell_type": "markdown",
   "metadata": {},
   "source": [
    "### confirming imputer did its job by looking at a known data row with null values"
   ]
  },
  {
   "cell_type": "code",
   "execution_count": 47,
   "metadata": {},
   "outputs": [
    {
     "data": {
      "text/plain": [
       "C    0.8\n",
       "Q    0.0\n",
       "S    0.2\n",
       "Name: 829, dtype: float64"
      ]
     },
     "execution_count": 47,
     "metadata": {},
     "output_type": "execute_result"
    }
   ],
   "source": [
    "df.loc[829,['C','Q','S']]"
   ]
  },
  {
   "cell_type": "code",
   "execution_count": 48,
   "metadata": {},
   "outputs": [
    {
     "data": {
      "text/plain": [
       "C    0.8\n",
       "Q    0.0\n",
       "S    0.2\n",
       "Name: 829, dtype: float64"
      ]
     },
     "execution_count": 48,
     "metadata": {},
     "output_type": "execute_result"
    }
   ],
   "source": [
    "df.loc[829,['C','Q','S']]"
   ]
  },
  {
   "cell_type": "markdown",
   "metadata": {},
   "source": [
    "### looks like Values need to be rounded. but first we will inverse transform the Age and Fare"
   ]
  },
  {
   "cell_type": "code",
   "execution_count": 49,
   "metadata": {},
   "outputs": [
    {
     "data": {
      "text/html": [
       "<div>\n",
       "<style scoped>\n",
       "    .dataframe tbody tr th:only-of-type {\n",
       "        vertical-align: middle;\n",
       "    }\n",
       "\n",
       "    .dataframe tbody tr th {\n",
       "        vertical-align: top;\n",
       "    }\n",
       "\n",
       "    .dataframe thead th {\n",
       "        text-align: right;\n",
       "    }\n",
       "</style>\n",
       "<table border=\"1\" class=\"dataframe\">\n",
       "  <thead>\n",
       "    <tr style=\"text-align: right;\">\n",
       "      <th></th>\n",
       "      <th>Survived</th>\n",
       "      <th>Pclass</th>\n",
       "      <th>Age</th>\n",
       "      <th>SibSp</th>\n",
       "      <th>Parch</th>\n",
       "      <th>Fare</th>\n",
       "      <th>C</th>\n",
       "      <th>Q</th>\n",
       "      <th>S</th>\n",
       "      <th>Capt</th>\n",
       "      <th>...</th>\n",
       "      <th>Dr</th>\n",
       "      <th>Lady</th>\n",
       "      <th>Master</th>\n",
       "      <th>Miss</th>\n",
       "      <th>Mr</th>\n",
       "      <th>Mrs</th>\n",
       "      <th>Rev</th>\n",
       "      <th>Sir</th>\n",
       "      <th>female</th>\n",
       "      <th>male</th>\n",
       "    </tr>\n",
       "  </thead>\n",
       "  <tbody>\n",
       "    <tr>\n",
       "      <th>0</th>\n",
       "      <td>0.0</td>\n",
       "      <td>3.0</td>\n",
       "      <td>22.0</td>\n",
       "      <td>1.0</td>\n",
       "      <td>0.0</td>\n",
       "      <td>7.2500</td>\n",
       "      <td>0.0</td>\n",
       "      <td>0.0</td>\n",
       "      <td>1.0</td>\n",
       "      <td>0.0</td>\n",
       "      <td>...</td>\n",
       "      <td>0.0</td>\n",
       "      <td>0.0</td>\n",
       "      <td>0.0</td>\n",
       "      <td>0.0</td>\n",
       "      <td>1.0</td>\n",
       "      <td>0.0</td>\n",
       "      <td>0.0</td>\n",
       "      <td>0.0</td>\n",
       "      <td>0.0</td>\n",
       "      <td>1.0</td>\n",
       "    </tr>\n",
       "    <tr>\n",
       "      <th>1</th>\n",
       "      <td>1.0</td>\n",
       "      <td>1.0</td>\n",
       "      <td>38.0</td>\n",
       "      <td>1.0</td>\n",
       "      <td>0.0</td>\n",
       "      <td>71.2833</td>\n",
       "      <td>1.0</td>\n",
       "      <td>0.0</td>\n",
       "      <td>0.0</td>\n",
       "      <td>0.0</td>\n",
       "      <td>...</td>\n",
       "      <td>0.0</td>\n",
       "      <td>0.0</td>\n",
       "      <td>0.0</td>\n",
       "      <td>0.0</td>\n",
       "      <td>0.0</td>\n",
       "      <td>1.0</td>\n",
       "      <td>0.0</td>\n",
       "      <td>0.0</td>\n",
       "      <td>1.0</td>\n",
       "      <td>0.0</td>\n",
       "    </tr>\n",
       "    <tr>\n",
       "      <th>2</th>\n",
       "      <td>1.0</td>\n",
       "      <td>3.0</td>\n",
       "      <td>26.0</td>\n",
       "      <td>0.0</td>\n",
       "      <td>0.0</td>\n",
       "      <td>7.9250</td>\n",
       "      <td>0.0</td>\n",
       "      <td>0.0</td>\n",
       "      <td>1.0</td>\n",
       "      <td>0.0</td>\n",
       "      <td>...</td>\n",
       "      <td>0.0</td>\n",
       "      <td>0.0</td>\n",
       "      <td>0.0</td>\n",
       "      <td>1.0</td>\n",
       "      <td>0.0</td>\n",
       "      <td>0.0</td>\n",
       "      <td>0.0</td>\n",
       "      <td>0.0</td>\n",
       "      <td>1.0</td>\n",
       "      <td>0.0</td>\n",
       "    </tr>\n",
       "    <tr>\n",
       "      <th>3</th>\n",
       "      <td>1.0</td>\n",
       "      <td>1.0</td>\n",
       "      <td>35.0</td>\n",
       "      <td>1.0</td>\n",
       "      <td>0.0</td>\n",
       "      <td>53.1000</td>\n",
       "      <td>0.0</td>\n",
       "      <td>0.0</td>\n",
       "      <td>1.0</td>\n",
       "      <td>0.0</td>\n",
       "      <td>...</td>\n",
       "      <td>0.0</td>\n",
       "      <td>0.0</td>\n",
       "      <td>0.0</td>\n",
       "      <td>0.0</td>\n",
       "      <td>0.0</td>\n",
       "      <td>1.0</td>\n",
       "      <td>0.0</td>\n",
       "      <td>0.0</td>\n",
       "      <td>1.0</td>\n",
       "      <td>0.0</td>\n",
       "    </tr>\n",
       "    <tr>\n",
       "      <th>4</th>\n",
       "      <td>0.0</td>\n",
       "      <td>3.0</td>\n",
       "      <td>35.0</td>\n",
       "      <td>0.0</td>\n",
       "      <td>0.0</td>\n",
       "      <td>8.0500</td>\n",
       "      <td>0.0</td>\n",
       "      <td>0.0</td>\n",
       "      <td>1.0</td>\n",
       "      <td>0.0</td>\n",
       "      <td>...</td>\n",
       "      <td>0.0</td>\n",
       "      <td>0.0</td>\n",
       "      <td>0.0</td>\n",
       "      <td>0.0</td>\n",
       "      <td>1.0</td>\n",
       "      <td>0.0</td>\n",
       "      <td>0.0</td>\n",
       "      <td>0.0</td>\n",
       "      <td>0.0</td>\n",
       "      <td>1.0</td>\n",
       "    </tr>\n",
       "  </tbody>\n",
       "</table>\n",
       "<p>5 rows × 21 columns</p>\n",
       "</div>"
      ],
      "text/plain": [
       "   Survived  Pclass   Age  SibSp  Parch     Fare    C    Q    S  Capt  ...  \\\n",
       "0       0.0     3.0  22.0    1.0    0.0   7.2500  0.0  0.0  1.0   0.0  ...   \n",
       "1       1.0     1.0  38.0    1.0    0.0  71.2833  1.0  0.0  0.0   0.0  ...   \n",
       "2       1.0     3.0  26.0    0.0    0.0   7.9250  0.0  0.0  1.0   0.0  ...   \n",
       "3       1.0     1.0  35.0    1.0    0.0  53.1000  0.0  0.0  1.0   0.0  ...   \n",
       "4       0.0     3.0  35.0    0.0    0.0   8.0500  0.0  0.0  1.0   0.0  ...   \n",
       "\n",
       "    Dr  Lady  Master  Miss   Mr  Mrs  Rev  Sir  female  male  \n",
       "0  0.0   0.0     0.0   0.0  1.0  0.0  0.0  0.0     0.0   1.0  \n",
       "1  0.0   0.0     0.0   0.0  0.0  1.0  0.0  0.0     1.0   0.0  \n",
       "2  0.0   0.0     0.0   1.0  0.0  0.0  0.0  0.0     1.0   0.0  \n",
       "3  0.0   0.0     0.0   0.0  0.0  1.0  0.0  0.0     1.0   0.0  \n",
       "4  0.0   0.0     0.0   0.0  1.0  0.0  0.0  0.0     0.0   1.0  \n",
       "\n",
       "[5 rows x 21 columns]"
      ]
     },
     "execution_count": 49,
     "metadata": {},
     "output_type": "execute_result"
    }
   ],
   "source": [
    "df[['Age', 'Fare']] = pd.DataFrame(minmax.inverse_transform(df[['Age', 'Fare']]), columns = [['Age', 'Fare']])\n",
    "df.head(5)"
   ]
  },
  {
   "cell_type": "code",
   "execution_count": 50,
   "metadata": {},
   "outputs": [
    {
     "data": {
      "text/html": [
       "<div>\n",
       "<style scoped>\n",
       "    .dataframe tbody tr th:only-of-type {\n",
       "        vertical-align: middle;\n",
       "    }\n",
       "\n",
       "    .dataframe tbody tr th {\n",
       "        vertical-align: top;\n",
       "    }\n",
       "\n",
       "    .dataframe thead th {\n",
       "        text-align: right;\n",
       "    }\n",
       "</style>\n",
       "<table border=\"1\" class=\"dataframe\">\n",
       "  <thead>\n",
       "    <tr style=\"text-align: right;\">\n",
       "      <th></th>\n",
       "      <th>Survived</th>\n",
       "      <th>Pclass</th>\n",
       "      <th>Age</th>\n",
       "      <th>SibSp</th>\n",
       "      <th>Parch</th>\n",
       "      <th>Fare</th>\n",
       "      <th>C</th>\n",
       "      <th>Q</th>\n",
       "      <th>S</th>\n",
       "      <th>Capt</th>\n",
       "      <th>...</th>\n",
       "      <th>Dr</th>\n",
       "      <th>Lady</th>\n",
       "      <th>Master</th>\n",
       "      <th>Miss</th>\n",
       "      <th>Mr</th>\n",
       "      <th>Mrs</th>\n",
       "      <th>Rev</th>\n",
       "      <th>Sir</th>\n",
       "      <th>female</th>\n",
       "      <th>male</th>\n",
       "    </tr>\n",
       "  </thead>\n",
       "  <tbody>\n",
       "    <tr>\n",
       "      <th>0</th>\n",
       "      <td>0.0</td>\n",
       "      <td>3.0</td>\n",
       "      <td>22.0</td>\n",
       "      <td>1.0</td>\n",
       "      <td>0.0</td>\n",
       "      <td>7.2500</td>\n",
       "      <td>0.0</td>\n",
       "      <td>0.0</td>\n",
       "      <td>1.0</td>\n",
       "      <td>0.0</td>\n",
       "      <td>...</td>\n",
       "      <td>0.0</td>\n",
       "      <td>0.0</td>\n",
       "      <td>0.0</td>\n",
       "      <td>0.0</td>\n",
       "      <td>1.0</td>\n",
       "      <td>0.0</td>\n",
       "      <td>0.0</td>\n",
       "      <td>0.0</td>\n",
       "      <td>0.0</td>\n",
       "      <td>1.0</td>\n",
       "    </tr>\n",
       "    <tr>\n",
       "      <th>1</th>\n",
       "      <td>1.0</td>\n",
       "      <td>1.0</td>\n",
       "      <td>38.0</td>\n",
       "      <td>1.0</td>\n",
       "      <td>0.0</td>\n",
       "      <td>71.2833</td>\n",
       "      <td>1.0</td>\n",
       "      <td>0.0</td>\n",
       "      <td>0.0</td>\n",
       "      <td>0.0</td>\n",
       "      <td>...</td>\n",
       "      <td>0.0</td>\n",
       "      <td>0.0</td>\n",
       "      <td>0.0</td>\n",
       "      <td>0.0</td>\n",
       "      <td>0.0</td>\n",
       "      <td>1.0</td>\n",
       "      <td>0.0</td>\n",
       "      <td>0.0</td>\n",
       "      <td>1.0</td>\n",
       "      <td>0.0</td>\n",
       "    </tr>\n",
       "    <tr>\n",
       "      <th>2</th>\n",
       "      <td>1.0</td>\n",
       "      <td>3.0</td>\n",
       "      <td>26.0</td>\n",
       "      <td>0.0</td>\n",
       "      <td>0.0</td>\n",
       "      <td>7.9250</td>\n",
       "      <td>0.0</td>\n",
       "      <td>0.0</td>\n",
       "      <td>1.0</td>\n",
       "      <td>0.0</td>\n",
       "      <td>...</td>\n",
       "      <td>0.0</td>\n",
       "      <td>0.0</td>\n",
       "      <td>0.0</td>\n",
       "      <td>1.0</td>\n",
       "      <td>0.0</td>\n",
       "      <td>0.0</td>\n",
       "      <td>0.0</td>\n",
       "      <td>0.0</td>\n",
       "      <td>1.0</td>\n",
       "      <td>0.0</td>\n",
       "    </tr>\n",
       "    <tr>\n",
       "      <th>3</th>\n",
       "      <td>1.0</td>\n",
       "      <td>1.0</td>\n",
       "      <td>35.0</td>\n",
       "      <td>1.0</td>\n",
       "      <td>0.0</td>\n",
       "      <td>53.1000</td>\n",
       "      <td>0.0</td>\n",
       "      <td>0.0</td>\n",
       "      <td>1.0</td>\n",
       "      <td>0.0</td>\n",
       "      <td>...</td>\n",
       "      <td>0.0</td>\n",
       "      <td>0.0</td>\n",
       "      <td>0.0</td>\n",
       "      <td>0.0</td>\n",
       "      <td>0.0</td>\n",
       "      <td>1.0</td>\n",
       "      <td>0.0</td>\n",
       "      <td>0.0</td>\n",
       "      <td>1.0</td>\n",
       "      <td>0.0</td>\n",
       "    </tr>\n",
       "  </tbody>\n",
       "</table>\n",
       "<p>4 rows × 21 columns</p>\n",
       "</div>"
      ],
      "text/plain": [
       "   Survived  Pclass   Age  SibSp  Parch     Fare    C    Q    S  Capt  ...  \\\n",
       "0       0.0     3.0  22.0    1.0    0.0   7.2500  0.0  0.0  1.0   0.0  ...   \n",
       "1       1.0     1.0  38.0    1.0    0.0  71.2833  1.0  0.0  0.0   0.0  ...   \n",
       "2       1.0     3.0  26.0    0.0    0.0   7.9250  0.0  0.0  1.0   0.0  ...   \n",
       "3       1.0     1.0  35.0    1.0    0.0  53.1000  0.0  0.0  1.0   0.0  ...   \n",
       "\n",
       "    Dr  Lady  Master  Miss   Mr  Mrs  Rev  Sir  female  male  \n",
       "0  0.0   0.0     0.0   0.0  1.0  0.0  0.0  0.0     0.0   1.0  \n",
       "1  0.0   0.0     0.0   0.0  0.0  1.0  0.0  0.0     1.0   0.0  \n",
       "2  0.0   0.0     0.0   1.0  0.0  0.0  0.0  0.0     1.0   0.0  \n",
       "3  0.0   0.0     0.0   0.0  0.0  1.0  0.0  0.0     1.0   0.0  \n",
       "\n",
       "[4 rows x 21 columns]"
      ]
     },
     "execution_count": 50,
     "metadata": {},
     "output_type": "execute_result"
    }
   ],
   "source": [
    "columns = ['Age','C','Q','S']\n",
    "\n",
    "df[columns] = round (df[columns] )\n",
    "df.head(4)"
   ]
  },
  {
   "cell_type": "code",
   "execution_count": 51,
   "metadata": {},
   "outputs": [
    {
     "data": {
      "text/plain": [
       "C    1.0\n",
       "Q    0.0\n",
       "S    0.0\n",
       "Name: 829, dtype: float64"
      ]
     },
     "execution_count": 51,
     "metadata": {},
     "output_type": "execute_result"
    }
   ],
   "source": [
    "#checking if values were rounded\n",
    "df.loc[829,['C','Q','S']]"
   ]
  },
  {
   "cell_type": "code",
   "execution_count": 52,
   "metadata": {},
   "outputs": [
    {
     "data": {
      "text/plain": [
       "21"
      ]
     },
     "execution_count": 52,
     "metadata": {},
     "output_type": "execute_result"
    }
   ],
   "source": [
    "df.columns.value_counts().sum()"
   ]
  },
  {
   "cell_type": "markdown",
   "metadata": {},
   "source": [
    "### need to do the same for the test dataset. 1. one hot encode, 2. scale dataset, 3. Knn imputer to fill missing values"
   ]
  },
  {
   "cell_type": "code",
   "execution_count": 53,
   "metadata": {},
   "outputs": [
    {
     "name": "stdout",
     "output_type": "stream",
     "text": [
      "Honorific [array([' Dr', ' Master', ' Miss', ' Mr', ' Mrs', ' Rev', ' Sir'],\n",
      "      dtype=object)]\n",
      "Sex [array(['female', 'male'], dtype=object)]\n",
      "Embarked [array(['C', 'Q', 'S'], dtype=object)]\n"
     ]
    }
   ],
   "source": [
    "Honorific = df_test[\"Honorific\"].to_numpy().reshape(-1,1)\n",
    "Sex = df_test[\"Sex\"].to_numpy().reshape(-1,1)\n",
    "Embarked = df_test[\"Embarked\"].to_numpy().reshape(-1,1)\n",
    "\n",
    "Honorific = ohe.fit_transform(Honorific)\n",
    "print (\"Honorific\", ohe.categories_)\n",
    "Sex = ohe.fit_transform(Sex)\n",
    "print (\"Sex\", ohe.categories_)\n",
    "Embarked = ohe.fit_transform(Embarked)\n",
    "print (\"Embarked\", ohe.categories_)\n",
    "\n"
   ]
  },
  {
   "cell_type": "code",
   "execution_count": 54,
   "metadata": {},
   "outputs": [],
   "source": [
    "Honorific = pd.DataFrame (Honorific, columns = ['Dr', 'Master', 'Miss', 'Mr', 'Mrs','Rev', 'Sir'])\n",
    "Sex = pd.DataFrame (Sex, columns = ['female', 'male'])\n",
    "Emb = pd.DataFrame (Embarked, columns=['C', 'Q', 'S'])"
   ]
  },
  {
   "cell_type": "code",
   "execution_count": 55,
   "metadata": {},
   "outputs": [
    {
     "data": {
      "text/html": [
       "<div>\n",
       "<style scoped>\n",
       "    .dataframe tbody tr th:only-of-type {\n",
       "        vertical-align: middle;\n",
       "    }\n",
       "\n",
       "    .dataframe tbody tr th {\n",
       "        vertical-align: top;\n",
       "    }\n",
       "\n",
       "    .dataframe thead th {\n",
       "        text-align: right;\n",
       "    }\n",
       "</style>\n",
       "<table border=\"1\" class=\"dataframe\">\n",
       "  <thead>\n",
       "    <tr style=\"text-align: right;\">\n",
       "      <th></th>\n",
       "      <th>Pclass</th>\n",
       "      <th>Age</th>\n",
       "      <th>SibSp</th>\n",
       "      <th>Parch</th>\n",
       "      <th>Fare</th>\n",
       "      <th>C</th>\n",
       "      <th>Q</th>\n",
       "      <th>S</th>\n",
       "      <th>Dr</th>\n",
       "      <th>Master</th>\n",
       "      <th>Miss</th>\n",
       "      <th>Mr</th>\n",
       "      <th>Mrs</th>\n",
       "      <th>Rev</th>\n",
       "      <th>Sir</th>\n",
       "      <th>female</th>\n",
       "      <th>male</th>\n",
       "    </tr>\n",
       "  </thead>\n",
       "  <tbody>\n",
       "    <tr>\n",
       "      <th>0</th>\n",
       "      <td>3</td>\n",
       "      <td>34.5</td>\n",
       "      <td>0</td>\n",
       "      <td>0</td>\n",
       "      <td>7.8292</td>\n",
       "      <td>0.0</td>\n",
       "      <td>1.0</td>\n",
       "      <td>0.0</td>\n",
       "      <td>0.0</td>\n",
       "      <td>0.0</td>\n",
       "      <td>0.0</td>\n",
       "      <td>1.0</td>\n",
       "      <td>0.0</td>\n",
       "      <td>0.0</td>\n",
       "      <td>0.0</td>\n",
       "      <td>0.0</td>\n",
       "      <td>1.0</td>\n",
       "    </tr>\n",
       "    <tr>\n",
       "      <th>1</th>\n",
       "      <td>3</td>\n",
       "      <td>47.0</td>\n",
       "      <td>1</td>\n",
       "      <td>0</td>\n",
       "      <td>7.0000</td>\n",
       "      <td>0.0</td>\n",
       "      <td>0.0</td>\n",
       "      <td>1.0</td>\n",
       "      <td>0.0</td>\n",
       "      <td>0.0</td>\n",
       "      <td>0.0</td>\n",
       "      <td>0.0</td>\n",
       "      <td>1.0</td>\n",
       "      <td>0.0</td>\n",
       "      <td>0.0</td>\n",
       "      <td>1.0</td>\n",
       "      <td>0.0</td>\n",
       "    </tr>\n",
       "    <tr>\n",
       "      <th>2</th>\n",
       "      <td>2</td>\n",
       "      <td>62.0</td>\n",
       "      <td>0</td>\n",
       "      <td>0</td>\n",
       "      <td>9.6875</td>\n",
       "      <td>0.0</td>\n",
       "      <td>1.0</td>\n",
       "      <td>0.0</td>\n",
       "      <td>0.0</td>\n",
       "      <td>0.0</td>\n",
       "      <td>1.0</td>\n",
       "      <td>0.0</td>\n",
       "      <td>0.0</td>\n",
       "      <td>0.0</td>\n",
       "      <td>0.0</td>\n",
       "      <td>0.0</td>\n",
       "      <td>1.0</td>\n",
       "    </tr>\n",
       "  </tbody>\n",
       "</table>\n",
       "</div>"
      ],
      "text/plain": [
       "   Pclass   Age  SibSp  Parch    Fare    C    Q    S   Dr  Master  Miss   Mr  \\\n",
       "0       3  34.5      0      0  7.8292  0.0  1.0  0.0  0.0     0.0   0.0  1.0   \n",
       "1       3  47.0      1      0  7.0000  0.0  0.0  1.0  0.0     0.0   0.0  0.0   \n",
       "2       2  62.0      0      0  9.6875  0.0  1.0  0.0  0.0     0.0   1.0  0.0   \n",
       "\n",
       "   Mrs  Rev  Sir  female  male  \n",
       "0  0.0  0.0  0.0     0.0   1.0  \n",
       "1  1.0  0.0  0.0     1.0   0.0  \n",
       "2  0.0  0.0  0.0     0.0   1.0  "
      ]
     },
     "execution_count": 55,
     "metadata": {},
     "output_type": "execute_result"
    }
   ],
   "source": [
    "df_test.drop (columns=['Embarked','Sex','Honorific'], inplace=True)\n",
    "df_test = df_test.join(Emb)\n",
    "df_test = df_test.join (Honorific)\n",
    "df_test = df_test.join (Sex)\n",
    "\n",
    "df_test.head(3)"
   ]
  },
  {
   "cell_type": "code",
   "execution_count": 56,
   "metadata": {},
   "outputs": [
    {
     "data": {
      "text/plain": [
       "Index(['Pclass', 'Age', 'SibSp', 'Parch', 'Fare', 'C', 'Q', 'S', 'Dr',\n",
       "       'Master', 'Miss', 'Mr', 'Mrs', 'Rev', 'Sir', 'female', 'male'],\n",
       "      dtype='object')"
      ]
     },
     "execution_count": 56,
     "metadata": {},
     "output_type": "execute_result"
    }
   ],
   "source": [
    "df_test.columns"
   ]
  },
  {
   "cell_type": "code",
   "execution_count": 57,
   "metadata": {},
   "outputs": [
    {
     "data": {
      "text/plain": [
       "Index(['Survived', 'Pclass', 'Age', 'SibSp', 'Parch', 'Fare', 'C', 'Q', 'S',\n",
       "       'Capt', 'Col', 'Dr', 'Lady', 'Master', 'Miss', 'Mr', 'Mrs', 'Rev',\n",
       "       'Sir', 'female', 'male'],\n",
       "      dtype='object')"
      ]
     },
     "execution_count": 57,
     "metadata": {},
     "output_type": "execute_result"
    }
   ],
   "source": [
    "df.columns"
   ]
  },
  {
   "cell_type": "code",
   "execution_count": 58,
   "metadata": {},
   "outputs": [
    {
     "data": {
      "text/plain": [
       "Index(['Pclass', 'Age', 'SibSp', 'Parch', 'Fare', 'C', 'Q', 'S', 'Dr',\n",
       "       'Master', 'Miss', 'Mr', 'Mrs', 'Rev', 'Sir', 'female', 'male'],\n",
       "      dtype='object')"
      ]
     },
     "execution_count": 58,
     "metadata": {},
     "output_type": "execute_result"
    }
   ],
   "source": [
    "df_test.columns"
   ]
  },
  {
   "cell_type": "code",
   "execution_count": 59,
   "metadata": {},
   "outputs": [
    {
     "data": {
      "text/html": [
       "<div>\n",
       "<style scoped>\n",
       "    .dataframe tbody tr th:only-of-type {\n",
       "        vertical-align: middle;\n",
       "    }\n",
       "\n",
       "    .dataframe tbody tr th {\n",
       "        vertical-align: top;\n",
       "    }\n",
       "\n",
       "    .dataframe thead th {\n",
       "        text-align: right;\n",
       "    }\n",
       "</style>\n",
       "<table border=\"1\" class=\"dataframe\">\n",
       "  <thead>\n",
       "    <tr style=\"text-align: right;\">\n",
       "      <th></th>\n",
       "      <th>Pclass</th>\n",
       "      <th>Age</th>\n",
       "      <th>SibSp</th>\n",
       "      <th>Parch</th>\n",
       "      <th>Fare</th>\n",
       "      <th>C</th>\n",
       "      <th>Q</th>\n",
       "      <th>S</th>\n",
       "      <th>Dr</th>\n",
       "      <th>Master</th>\n",
       "      <th>Miss</th>\n",
       "      <th>Mr</th>\n",
       "      <th>Mrs</th>\n",
       "      <th>Rev</th>\n",
       "      <th>Sir</th>\n",
       "      <th>female</th>\n",
       "      <th>male</th>\n",
       "      <th>Capt</th>\n",
       "      <th>Col</th>\n",
       "      <th>Lady</th>\n",
       "    </tr>\n",
       "  </thead>\n",
       "  <tbody>\n",
       "    <tr>\n",
       "      <th>0</th>\n",
       "      <td>3</td>\n",
       "      <td>34.5</td>\n",
       "      <td>0</td>\n",
       "      <td>0</td>\n",
       "      <td>7.8292</td>\n",
       "      <td>0.0</td>\n",
       "      <td>1.0</td>\n",
       "      <td>0.0</td>\n",
       "      <td>0.0</td>\n",
       "      <td>0.0</td>\n",
       "      <td>0.0</td>\n",
       "      <td>1.0</td>\n",
       "      <td>0.0</td>\n",
       "      <td>0.0</td>\n",
       "      <td>0.0</td>\n",
       "      <td>0.0</td>\n",
       "      <td>1.0</td>\n",
       "      <td>0.0</td>\n",
       "      <td>0.0</td>\n",
       "      <td>0.0</td>\n",
       "    </tr>\n",
       "    <tr>\n",
       "      <th>1</th>\n",
       "      <td>3</td>\n",
       "      <td>47.0</td>\n",
       "      <td>1</td>\n",
       "      <td>0</td>\n",
       "      <td>7.0000</td>\n",
       "      <td>0.0</td>\n",
       "      <td>0.0</td>\n",
       "      <td>1.0</td>\n",
       "      <td>0.0</td>\n",
       "      <td>0.0</td>\n",
       "      <td>0.0</td>\n",
       "      <td>0.0</td>\n",
       "      <td>1.0</td>\n",
       "      <td>0.0</td>\n",
       "      <td>0.0</td>\n",
       "      <td>1.0</td>\n",
       "      <td>0.0</td>\n",
       "      <td>0.0</td>\n",
       "      <td>0.0</td>\n",
       "      <td>0.0</td>\n",
       "    </tr>\n",
       "    <tr>\n",
       "      <th>2</th>\n",
       "      <td>2</td>\n",
       "      <td>62.0</td>\n",
       "      <td>0</td>\n",
       "      <td>0</td>\n",
       "      <td>9.6875</td>\n",
       "      <td>0.0</td>\n",
       "      <td>1.0</td>\n",
       "      <td>0.0</td>\n",
       "      <td>0.0</td>\n",
       "      <td>0.0</td>\n",
       "      <td>1.0</td>\n",
       "      <td>0.0</td>\n",
       "      <td>0.0</td>\n",
       "      <td>0.0</td>\n",
       "      <td>0.0</td>\n",
       "      <td>0.0</td>\n",
       "      <td>1.0</td>\n",
       "      <td>0.0</td>\n",
       "      <td>0.0</td>\n",
       "      <td>0.0</td>\n",
       "    </tr>\n",
       "  </tbody>\n",
       "</table>\n",
       "</div>"
      ],
      "text/plain": [
       "   Pclass   Age  SibSp  Parch    Fare    C    Q    S   Dr  Master  Miss   Mr  \\\n",
       "0       3  34.5      0      0  7.8292  0.0  1.0  0.0  0.0     0.0   0.0  1.0   \n",
       "1       3  47.0      1      0  7.0000  0.0  0.0  1.0  0.0     0.0   0.0  0.0   \n",
       "2       2  62.0      0      0  9.6875  0.0  1.0  0.0  0.0     0.0   1.0  0.0   \n",
       "\n",
       "   Mrs  Rev  Sir  female  male  Capt  Col  Lady  \n",
       "0  0.0  0.0  0.0     0.0   1.0   0.0  0.0   0.0  \n",
       "1  1.0  0.0  0.0     1.0   0.0   0.0  0.0   0.0  \n",
       "2  0.0  0.0  0.0     0.0   1.0   0.0  0.0   0.0  "
      ]
     },
     "execution_count": 59,
     "metadata": {},
     "output_type": "execute_result"
    }
   ],
   "source": [
    "df_test['Capt']= 0.0\n",
    "df_test['Col'] = 0.0\n",
    "df_test['Lady'] = 0.0\n",
    "df_test.head(3)"
   ]
  },
  {
   "cell_type": "code",
   "execution_count": 60,
   "metadata": {},
   "outputs": [
    {
     "data": {
      "text/html": [
       "<div>\n",
       "<style scoped>\n",
       "    .dataframe tbody tr th:only-of-type {\n",
       "        vertical-align: middle;\n",
       "    }\n",
       "\n",
       "    .dataframe tbody tr th {\n",
       "        vertical-align: top;\n",
       "    }\n",
       "\n",
       "    .dataframe thead th {\n",
       "        text-align: right;\n",
       "    }\n",
       "</style>\n",
       "<table border=\"1\" class=\"dataframe\">\n",
       "  <thead>\n",
       "    <tr style=\"text-align: right;\">\n",
       "      <th></th>\n",
       "      <th>Pclass</th>\n",
       "      <th>Age</th>\n",
       "      <th>SibSp</th>\n",
       "      <th>Parch</th>\n",
       "      <th>Fare</th>\n",
       "      <th>C</th>\n",
       "      <th>Q</th>\n",
       "      <th>S</th>\n",
       "      <th>Dr</th>\n",
       "      <th>Master</th>\n",
       "      <th>Miss</th>\n",
       "      <th>Mr</th>\n",
       "      <th>Mrs</th>\n",
       "      <th>Rev</th>\n",
       "      <th>Sir</th>\n",
       "      <th>female</th>\n",
       "      <th>male</th>\n",
       "      <th>Capt</th>\n",
       "      <th>Col</th>\n",
       "      <th>Lady</th>\n",
       "    </tr>\n",
       "  </thead>\n",
       "  <tbody>\n",
       "    <tr>\n",
       "      <th>0</th>\n",
       "      <td>3</td>\n",
       "      <td>0.452723</td>\n",
       "      <td>0</td>\n",
       "      <td>0</td>\n",
       "      <td>0.015282</td>\n",
       "      <td>0.0</td>\n",
       "      <td>1.0</td>\n",
       "      <td>0.0</td>\n",
       "      <td>0.0</td>\n",
       "      <td>0.0</td>\n",
       "      <td>0.0</td>\n",
       "      <td>1.0</td>\n",
       "      <td>0.0</td>\n",
       "      <td>0.0</td>\n",
       "      <td>0.0</td>\n",
       "      <td>0.0</td>\n",
       "      <td>1.0</td>\n",
       "      <td>0.0</td>\n",
       "      <td>0.0</td>\n",
       "      <td>0.0</td>\n",
       "    </tr>\n",
       "    <tr>\n",
       "      <th>1</th>\n",
       "      <td>3</td>\n",
       "      <td>0.617566</td>\n",
       "      <td>1</td>\n",
       "      <td>0</td>\n",
       "      <td>0.013663</td>\n",
       "      <td>0.0</td>\n",
       "      <td>0.0</td>\n",
       "      <td>1.0</td>\n",
       "      <td>0.0</td>\n",
       "      <td>0.0</td>\n",
       "      <td>0.0</td>\n",
       "      <td>0.0</td>\n",
       "      <td>1.0</td>\n",
       "      <td>0.0</td>\n",
       "      <td>0.0</td>\n",
       "      <td>1.0</td>\n",
       "      <td>0.0</td>\n",
       "      <td>0.0</td>\n",
       "      <td>0.0</td>\n",
       "      <td>0.0</td>\n",
       "    </tr>\n",
       "    <tr>\n",
       "      <th>2</th>\n",
       "      <td>2</td>\n",
       "      <td>0.815377</td>\n",
       "      <td>0</td>\n",
       "      <td>0</td>\n",
       "      <td>0.018909</td>\n",
       "      <td>0.0</td>\n",
       "      <td>1.0</td>\n",
       "      <td>0.0</td>\n",
       "      <td>0.0</td>\n",
       "      <td>0.0</td>\n",
       "      <td>1.0</td>\n",
       "      <td>0.0</td>\n",
       "      <td>0.0</td>\n",
       "      <td>0.0</td>\n",
       "      <td>0.0</td>\n",
       "      <td>0.0</td>\n",
       "      <td>1.0</td>\n",
       "      <td>0.0</td>\n",
       "      <td>0.0</td>\n",
       "      <td>0.0</td>\n",
       "    </tr>\n",
       "  </tbody>\n",
       "</table>\n",
       "</div>"
      ],
      "text/plain": [
       "   Pclass       Age  SibSp  Parch      Fare    C    Q    S   Dr  Master  Miss  \\\n",
       "0       3  0.452723      0      0  0.015282  0.0  1.0  0.0  0.0     0.0   0.0   \n",
       "1       3  0.617566      1      0  0.013663  0.0  0.0  1.0  0.0     0.0   0.0   \n",
       "2       2  0.815377      0      0  0.018909  0.0  1.0  0.0  0.0     0.0   1.0   \n",
       "\n",
       "    Mr  Mrs  Rev  Sir  female  male  Capt  Col  Lady  \n",
       "0  1.0  0.0  0.0  0.0     0.0   1.0   0.0  0.0   0.0  \n",
       "1  0.0  1.0  0.0  0.0     1.0   0.0   0.0  0.0   0.0  \n",
       "2  0.0  0.0  0.0  0.0     0.0   1.0   0.0  0.0   0.0  "
      ]
     },
     "execution_count": 60,
     "metadata": {},
     "output_type": "execute_result"
    }
   ],
   "source": [
    "df_test[['Age', 'Fare']] = pd.DataFrame(minmax.fit_transform(df_test[['Age', 'Fare']]), columns = [['Age', 'Fare']])\n",
    "df_test.head(3)"
   ]
  },
  {
   "cell_type": "code",
   "execution_count": 61,
   "metadata": {},
   "outputs": [],
   "source": [
    "imputer = KNNImputer(n_neighbors=5)\n",
    "df_test = pd.DataFrame(imputer.fit_transform(df_test),columns = df_test.columns)"
   ]
  },
  {
   "cell_type": "code",
   "execution_count": 62,
   "metadata": {},
   "outputs": [
    {
     "data": {
      "text/plain": [
       "array([False])"
      ]
     },
     "execution_count": 62,
     "metadata": {},
     "output_type": "execute_result"
    }
   ],
   "source": [
    "df_test.isnull().any().unique()"
   ]
  },
  {
   "cell_type": "code",
   "execution_count": 63,
   "metadata": {},
   "outputs": [
    {
     "data": {
      "text/html": [
       "<div>\n",
       "<style scoped>\n",
       "    .dataframe tbody tr th:only-of-type {\n",
       "        vertical-align: middle;\n",
       "    }\n",
       "\n",
       "    .dataframe tbody tr th {\n",
       "        vertical-align: top;\n",
       "    }\n",
       "\n",
       "    .dataframe thead th {\n",
       "        text-align: right;\n",
       "    }\n",
       "</style>\n",
       "<table border=\"1\" class=\"dataframe\">\n",
       "  <thead>\n",
       "    <tr style=\"text-align: right;\">\n",
       "      <th></th>\n",
       "      <th>Pclass</th>\n",
       "      <th>Age</th>\n",
       "      <th>SibSp</th>\n",
       "      <th>Parch</th>\n",
       "      <th>Fare</th>\n",
       "      <th>C</th>\n",
       "      <th>Q</th>\n",
       "      <th>S</th>\n",
       "      <th>Dr</th>\n",
       "      <th>Master</th>\n",
       "      <th>Miss</th>\n",
       "      <th>Mr</th>\n",
       "      <th>Mrs</th>\n",
       "      <th>Rev</th>\n",
       "      <th>Sir</th>\n",
       "      <th>female</th>\n",
       "      <th>male</th>\n",
       "      <th>Capt</th>\n",
       "      <th>Col</th>\n",
       "      <th>Lady</th>\n",
       "    </tr>\n",
       "  </thead>\n",
       "  <tbody>\n",
       "    <tr>\n",
       "      <th>0</th>\n",
       "      <td>3.0</td>\n",
       "      <td>34.0</td>\n",
       "      <td>0.0</td>\n",
       "      <td>0.0</td>\n",
       "      <td>7.8292</td>\n",
       "      <td>0.0</td>\n",
       "      <td>1.0</td>\n",
       "      <td>0.0</td>\n",
       "      <td>0.0</td>\n",
       "      <td>0.0</td>\n",
       "      <td>0.0</td>\n",
       "      <td>1.0</td>\n",
       "      <td>0.0</td>\n",
       "      <td>0.0</td>\n",
       "      <td>0.0</td>\n",
       "      <td>0.0</td>\n",
       "      <td>1.0</td>\n",
       "      <td>0.0</td>\n",
       "      <td>0.0</td>\n",
       "      <td>0.0</td>\n",
       "    </tr>\n",
       "    <tr>\n",
       "      <th>1</th>\n",
       "      <td>3.0</td>\n",
       "      <td>47.0</td>\n",
       "      <td>1.0</td>\n",
       "      <td>0.0</td>\n",
       "      <td>7.0000</td>\n",
       "      <td>0.0</td>\n",
       "      <td>0.0</td>\n",
       "      <td>1.0</td>\n",
       "      <td>0.0</td>\n",
       "      <td>0.0</td>\n",
       "      <td>0.0</td>\n",
       "      <td>0.0</td>\n",
       "      <td>1.0</td>\n",
       "      <td>0.0</td>\n",
       "      <td>0.0</td>\n",
       "      <td>1.0</td>\n",
       "      <td>0.0</td>\n",
       "      <td>0.0</td>\n",
       "      <td>0.0</td>\n",
       "      <td>0.0</td>\n",
       "    </tr>\n",
       "    <tr>\n",
       "      <th>2</th>\n",
       "      <td>2.0</td>\n",
       "      <td>62.0</td>\n",
       "      <td>0.0</td>\n",
       "      <td>0.0</td>\n",
       "      <td>9.6875</td>\n",
       "      <td>0.0</td>\n",
       "      <td>1.0</td>\n",
       "      <td>0.0</td>\n",
       "      <td>0.0</td>\n",
       "      <td>0.0</td>\n",
       "      <td>1.0</td>\n",
       "      <td>0.0</td>\n",
       "      <td>0.0</td>\n",
       "      <td>0.0</td>\n",
       "      <td>0.0</td>\n",
       "      <td>0.0</td>\n",
       "      <td>1.0</td>\n",
       "      <td>0.0</td>\n",
       "      <td>0.0</td>\n",
       "      <td>0.0</td>\n",
       "    </tr>\n",
       "    <tr>\n",
       "      <th>3</th>\n",
       "      <td>3.0</td>\n",
       "      <td>27.0</td>\n",
       "      <td>0.0</td>\n",
       "      <td>0.0</td>\n",
       "      <td>8.6625</td>\n",
       "      <td>0.0</td>\n",
       "      <td>0.0</td>\n",
       "      <td>1.0</td>\n",
       "      <td>0.0</td>\n",
       "      <td>0.0</td>\n",
       "      <td>0.0</td>\n",
       "      <td>0.0</td>\n",
       "      <td>1.0</td>\n",
       "      <td>0.0</td>\n",
       "      <td>0.0</td>\n",
       "      <td>0.0</td>\n",
       "      <td>1.0</td>\n",
       "      <td>0.0</td>\n",
       "      <td>0.0</td>\n",
       "      <td>0.0</td>\n",
       "    </tr>\n",
       "  </tbody>\n",
       "</table>\n",
       "</div>"
      ],
      "text/plain": [
       "   Pclass   Age  SibSp  Parch    Fare    C    Q    S   Dr  Master  Miss   Mr  \\\n",
       "0     3.0  34.0    0.0    0.0  7.8292  0.0  1.0  0.0  0.0     0.0   0.0  1.0   \n",
       "1     3.0  47.0    1.0    0.0  7.0000  0.0  0.0  1.0  0.0     0.0   0.0  0.0   \n",
       "2     2.0  62.0    0.0    0.0  9.6875  0.0  1.0  0.0  0.0     0.0   1.0  0.0   \n",
       "3     3.0  27.0    0.0    0.0  8.6625  0.0  0.0  1.0  0.0     0.0   0.0  0.0   \n",
       "\n",
       "   Mrs  Rev  Sir  female  male  Capt  Col  Lady  \n",
       "0  0.0  0.0  0.0     0.0   1.0   0.0  0.0   0.0  \n",
       "1  1.0  0.0  0.0     1.0   0.0   0.0  0.0   0.0  \n",
       "2  0.0  0.0  0.0     0.0   1.0   0.0  0.0   0.0  \n",
       "3  1.0  0.0  0.0     0.0   1.0   0.0  0.0   0.0  "
      ]
     },
     "execution_count": 63,
     "metadata": {},
     "output_type": "execute_result"
    }
   ],
   "source": [
    "df_test[['Age', 'Fare']] = pd.DataFrame(minmax.inverse_transform(df_test[['Age', 'Fare']]), columns = [['Age', 'Fare']])\n",
    "df_test['Age'] = round (df_test['Age'] )\n",
    "df_test.head(4)\n"
   ]
  },
  {
   "cell_type": "code",
   "execution_count": 64,
   "metadata": {},
   "outputs": [],
   "source": [
    "## we will use some feature selection techniques to see the best parameters.\n",
    "from sklearn.feature_selection import SelectKBest, chi2"
   ]
  },
  {
   "cell_type": "code",
   "execution_count": 65,
   "metadata": {},
   "outputs": [
    {
     "data": {
      "text/html": [
       "<div>\n",
       "<style scoped>\n",
       "    .dataframe tbody tr th:only-of-type {\n",
       "        vertical-align: middle;\n",
       "    }\n",
       "\n",
       "    .dataframe tbody tr th {\n",
       "        vertical-align: top;\n",
       "    }\n",
       "\n",
       "    .dataframe thead th {\n",
       "        text-align: right;\n",
       "    }\n",
       "</style>\n",
       "<table border=\"1\" class=\"dataframe\">\n",
       "  <thead>\n",
       "    <tr style=\"text-align: right;\">\n",
       "      <th></th>\n",
       "      <th>Score</th>\n",
       "      <th>0</th>\n",
       "    </tr>\n",
       "  </thead>\n",
       "  <tbody>\n",
       "    <tr>\n",
       "      <th>4</th>\n",
       "      <td>4518.319091</td>\n",
       "      <td>Fare</td>\n",
       "    </tr>\n",
       "    <tr>\n",
       "      <th>18</th>\n",
       "      <td>170.348127</td>\n",
       "      <td>female</td>\n",
       "    </tr>\n",
       "    <tr>\n",
       "      <th>14</th>\n",
       "      <td>112.805785</td>\n",
       "      <td>Mr</td>\n",
       "    </tr>\n",
       "    <tr>\n",
       "      <th>19</th>\n",
       "      <td>92.702447</td>\n",
       "      <td>male</td>\n",
       "    </tr>\n",
       "    <tr>\n",
       "      <th>15</th>\n",
       "      <td>89.474177</td>\n",
       "      <td>Mrs</td>\n",
       "    </tr>\n",
       "    <tr>\n",
       "      <th>13</th>\n",
       "      <td>79.531749</td>\n",
       "      <td>Miss</td>\n",
       "    </tr>\n",
       "    <tr>\n",
       "      <th>1</th>\n",
       "      <td>62.769219</td>\n",
       "      <td>Age</td>\n",
       "    </tr>\n",
       "    <tr>\n",
       "      <th>0</th>\n",
       "      <td>30.873699</td>\n",
       "      <td>Pclass</td>\n",
       "    </tr>\n",
       "    <tr>\n",
       "      <th>5</th>\n",
       "      <td>22.009402</td>\n",
       "      <td>C</td>\n",
       "    </tr>\n",
       "    <tr>\n",
       "      <th>3</th>\n",
       "      <td>10.097499</td>\n",
       "      <td>Parch</td>\n",
       "    </tr>\n",
       "    <tr>\n",
       "      <th>12</th>\n",
       "      <td>6.180425</td>\n",
       "      <td>Master</td>\n",
       "    </tr>\n",
       "    <tr>\n",
       "      <th>7</th>\n",
       "      <td>5.984840</td>\n",
       "      <td>S</td>\n",
       "    </tr>\n",
       "    <tr>\n",
       "      <th>16</th>\n",
       "      <td>3.737705</td>\n",
       "      <td>Rev</td>\n",
       "    </tr>\n",
       "    <tr>\n",
       "      <th>11</th>\n",
       "      <td>3.210526</td>\n",
       "      <td>Lady</td>\n",
       "    </tr>\n",
       "    <tr>\n",
       "      <th>2</th>\n",
       "      <td>2.581865</td>\n",
       "      <td>SibSp</td>\n",
       "    </tr>\n",
       "    <tr>\n",
       "      <th>8</th>\n",
       "      <td>0.622951</td>\n",
       "      <td>Capt</td>\n",
       "    </tr>\n",
       "    <tr>\n",
       "      <th>9</th>\n",
       "      <td>0.228214</td>\n",
       "      <td>Col</td>\n",
       "    </tr>\n",
       "    <tr>\n",
       "      <th>10</th>\n",
       "      <td>0.059226</td>\n",
       "      <td>Dr</td>\n",
       "    </tr>\n",
       "    <tr>\n",
       "      <th>17</th>\n",
       "      <td>0.032355</td>\n",
       "      <td>Sir</td>\n",
       "    </tr>\n",
       "    <tr>\n",
       "      <th>6</th>\n",
       "      <td>0.010847</td>\n",
       "      <td>Q</td>\n",
       "    </tr>\n",
       "  </tbody>\n",
       "</table>\n",
       "</div>"
      ],
      "text/plain": [
       "          Score       0\n",
       "4   4518.319091    Fare\n",
       "18   170.348127  female\n",
       "14   112.805785      Mr\n",
       "19    92.702447    male\n",
       "15    89.474177     Mrs\n",
       "13    79.531749    Miss\n",
       "1     62.769219     Age\n",
       "0     30.873699  Pclass\n",
       "5     22.009402       C\n",
       "3     10.097499   Parch\n",
       "12     6.180425  Master\n",
       "7      5.984840       S\n",
       "16     3.737705     Rev\n",
       "11     3.210526    Lady\n",
       "2      2.581865   SibSp\n",
       "8      0.622951    Capt\n",
       "9      0.228214     Col\n",
       "10     0.059226      Dr\n",
       "17     0.032355     Sir\n",
       "6      0.010847       Q"
      ]
     },
     "execution_count": 65,
     "metadata": {},
     "output_type": "execute_result"
    }
   ],
   "source": [
    "X = df.drop('Survived', axis = 1)\n",
    "Y = df.Survived\n",
    "\n",
    "features = SelectKBest(score_func = chi2, k =20 )\n",
    "feat = pd.DataFrame (features.fit(X,Y).scores_, columns=['Score'])\n",
    "column = pd.DataFrame (X.columns)\n",
    "feat = feat.join (column)\n",
    "feat.sort_values('Score',ascending =False)"
   ]
  },
  {
   "cell_type": "markdown",
   "metadata": {},
   "source": [
    "### we will keep features up to SibSp, as these have some relevance\n"
   ]
  },
  {
   "cell_type": "code",
   "execution_count": 66,
   "metadata": {},
   "outputs": [
    {
     "data": {
      "text/html": [
       "<div>\n",
       "<style scoped>\n",
       "    .dataframe tbody tr th:only-of-type {\n",
       "        vertical-align: middle;\n",
       "    }\n",
       "\n",
       "    .dataframe tbody tr th {\n",
       "        vertical-align: top;\n",
       "    }\n",
       "\n",
       "    .dataframe thead th {\n",
       "        text-align: right;\n",
       "    }\n",
       "</style>\n",
       "<table border=\"1\" class=\"dataframe\">\n",
       "  <thead>\n",
       "    <tr style=\"text-align: right;\">\n",
       "      <th></th>\n",
       "      <th>Fare</th>\n",
       "      <th>female</th>\n",
       "      <th>Mr</th>\n",
       "      <th>male</th>\n",
       "      <th>Mrs</th>\n",
       "      <th>Miss</th>\n",
       "      <th>Age</th>\n",
       "      <th>Pclass</th>\n",
       "      <th>C</th>\n",
       "      <th>Parch</th>\n",
       "      <th>Master</th>\n",
       "      <th>S</th>\n",
       "      <th>Rev</th>\n",
       "      <th>Lady</th>\n",
       "      <th>SibSp</th>\n",
       "    </tr>\n",
       "  </thead>\n",
       "  <tbody>\n",
       "    <tr>\n",
       "      <th>0</th>\n",
       "      <td>7.2500</td>\n",
       "      <td>0.0</td>\n",
       "      <td>1.0</td>\n",
       "      <td>1.0</td>\n",
       "      <td>0.0</td>\n",
       "      <td>0.0</td>\n",
       "      <td>22.0</td>\n",
       "      <td>3.0</td>\n",
       "      <td>0.0</td>\n",
       "      <td>0.0</td>\n",
       "      <td>0.0</td>\n",
       "      <td>1.0</td>\n",
       "      <td>0.0</td>\n",
       "      <td>0.0</td>\n",
       "      <td>1.0</td>\n",
       "    </tr>\n",
       "    <tr>\n",
       "      <th>1</th>\n",
       "      <td>71.2833</td>\n",
       "      <td>1.0</td>\n",
       "      <td>0.0</td>\n",
       "      <td>0.0</td>\n",
       "      <td>1.0</td>\n",
       "      <td>0.0</td>\n",
       "      <td>38.0</td>\n",
       "      <td>1.0</td>\n",
       "      <td>1.0</td>\n",
       "      <td>0.0</td>\n",
       "      <td>0.0</td>\n",
       "      <td>0.0</td>\n",
       "      <td>0.0</td>\n",
       "      <td>0.0</td>\n",
       "      <td>1.0</td>\n",
       "    </tr>\n",
       "    <tr>\n",
       "      <th>2</th>\n",
       "      <td>7.9250</td>\n",
       "      <td>1.0</td>\n",
       "      <td>0.0</td>\n",
       "      <td>0.0</td>\n",
       "      <td>0.0</td>\n",
       "      <td>1.0</td>\n",
       "      <td>26.0</td>\n",
       "      <td>3.0</td>\n",
       "      <td>0.0</td>\n",
       "      <td>0.0</td>\n",
       "      <td>0.0</td>\n",
       "      <td>1.0</td>\n",
       "      <td>0.0</td>\n",
       "      <td>0.0</td>\n",
       "      <td>0.0</td>\n",
       "    </tr>\n",
       "    <tr>\n",
       "      <th>3</th>\n",
       "      <td>53.1000</td>\n",
       "      <td>1.0</td>\n",
       "      <td>0.0</td>\n",
       "      <td>0.0</td>\n",
       "      <td>1.0</td>\n",
       "      <td>0.0</td>\n",
       "      <td>35.0</td>\n",
       "      <td>1.0</td>\n",
       "      <td>0.0</td>\n",
       "      <td>0.0</td>\n",
       "      <td>0.0</td>\n",
       "      <td>1.0</td>\n",
       "      <td>0.0</td>\n",
       "      <td>0.0</td>\n",
       "      <td>1.0</td>\n",
       "    </tr>\n",
       "    <tr>\n",
       "      <th>4</th>\n",
       "      <td>8.0500</td>\n",
       "      <td>0.0</td>\n",
       "      <td>1.0</td>\n",
       "      <td>1.0</td>\n",
       "      <td>0.0</td>\n",
       "      <td>0.0</td>\n",
       "      <td>35.0</td>\n",
       "      <td>3.0</td>\n",
       "      <td>0.0</td>\n",
       "      <td>0.0</td>\n",
       "      <td>0.0</td>\n",
       "      <td>1.0</td>\n",
       "      <td>0.0</td>\n",
       "      <td>0.0</td>\n",
       "      <td>0.0</td>\n",
       "    </tr>\n",
       "  </tbody>\n",
       "</table>\n",
       "</div>"
      ],
      "text/plain": [
       "      Fare  female   Mr  male  Mrs  Miss   Age  Pclass    C  Parch  Master  \\\n",
       "0   7.2500     0.0  1.0   1.0  0.0   0.0  22.0     3.0  0.0    0.0     0.0   \n",
       "1  71.2833     1.0  0.0   0.0  1.0   0.0  38.0     1.0  1.0    0.0     0.0   \n",
       "2   7.9250     1.0  0.0   0.0  0.0   1.0  26.0     3.0  0.0    0.0     0.0   \n",
       "3  53.1000     1.0  0.0   0.0  1.0   0.0  35.0     1.0  0.0    0.0     0.0   \n",
       "4   8.0500     0.0  1.0   1.0  0.0   0.0  35.0     3.0  0.0    0.0     0.0   \n",
       "\n",
       "     S  Rev  Lady  SibSp  \n",
       "0  1.0  0.0   0.0    1.0  \n",
       "1  0.0  0.0   0.0    1.0  \n",
       "2  1.0  0.0   0.0    0.0  \n",
       "3  1.0  0.0   0.0    1.0  \n",
       "4  1.0  0.0   0.0    0.0  "
      ]
     },
     "execution_count": 66,
     "metadata": {},
     "output_type": "execute_result"
    }
   ],
   "source": [
    "X = X[list (feat.nlargest(15,'Score')[0])]\n",
    "X.head(5)"
   ]
  },
  {
   "cell_type": "code",
   "execution_count": 67,
   "metadata": {},
   "outputs": [
    {
     "data": {
      "text/html": [
       "<div>\n",
       "<style scoped>\n",
       "    .dataframe tbody tr th:only-of-type {\n",
       "        vertical-align: middle;\n",
       "    }\n",
       "\n",
       "    .dataframe tbody tr th {\n",
       "        vertical-align: top;\n",
       "    }\n",
       "\n",
       "    .dataframe thead th {\n",
       "        text-align: right;\n",
       "    }\n",
       "</style>\n",
       "<table border=\"1\" class=\"dataframe\">\n",
       "  <thead>\n",
       "    <tr style=\"text-align: right;\">\n",
       "      <th></th>\n",
       "      <th>Fare</th>\n",
       "      <th>female</th>\n",
       "      <th>Mr</th>\n",
       "      <th>male</th>\n",
       "      <th>Mrs</th>\n",
       "      <th>Miss</th>\n",
       "      <th>Age</th>\n",
       "      <th>Pclass</th>\n",
       "      <th>C</th>\n",
       "      <th>Parch</th>\n",
       "      <th>Master</th>\n",
       "      <th>S</th>\n",
       "      <th>Rev</th>\n",
       "      <th>Lady</th>\n",
       "      <th>SibSp</th>\n",
       "    </tr>\n",
       "  </thead>\n",
       "  <tbody>\n",
       "    <tr>\n",
       "      <th>0</th>\n",
       "      <td>7.8292</td>\n",
       "      <td>0.0</td>\n",
       "      <td>1.0</td>\n",
       "      <td>1.0</td>\n",
       "      <td>0.0</td>\n",
       "      <td>0.0</td>\n",
       "      <td>34.0</td>\n",
       "      <td>3.0</td>\n",
       "      <td>0.0</td>\n",
       "      <td>0.0</td>\n",
       "      <td>0.0</td>\n",
       "      <td>0.0</td>\n",
       "      <td>0.0</td>\n",
       "      <td>0.0</td>\n",
       "      <td>0.0</td>\n",
       "    </tr>\n",
       "    <tr>\n",
       "      <th>1</th>\n",
       "      <td>7.0000</td>\n",
       "      <td>1.0</td>\n",
       "      <td>0.0</td>\n",
       "      <td>0.0</td>\n",
       "      <td>1.0</td>\n",
       "      <td>0.0</td>\n",
       "      <td>47.0</td>\n",
       "      <td>3.0</td>\n",
       "      <td>0.0</td>\n",
       "      <td>0.0</td>\n",
       "      <td>0.0</td>\n",
       "      <td>1.0</td>\n",
       "      <td>0.0</td>\n",
       "      <td>0.0</td>\n",
       "      <td>1.0</td>\n",
       "    </tr>\n",
       "    <tr>\n",
       "      <th>2</th>\n",
       "      <td>9.6875</td>\n",
       "      <td>0.0</td>\n",
       "      <td>0.0</td>\n",
       "      <td>1.0</td>\n",
       "      <td>0.0</td>\n",
       "      <td>1.0</td>\n",
       "      <td>62.0</td>\n",
       "      <td>2.0</td>\n",
       "      <td>0.0</td>\n",
       "      <td>0.0</td>\n",
       "      <td>0.0</td>\n",
       "      <td>0.0</td>\n",
       "      <td>0.0</td>\n",
       "      <td>0.0</td>\n",
       "      <td>0.0</td>\n",
       "    </tr>\n",
       "    <tr>\n",
       "      <th>3</th>\n",
       "      <td>8.6625</td>\n",
       "      <td>0.0</td>\n",
       "      <td>0.0</td>\n",
       "      <td>1.0</td>\n",
       "      <td>1.0</td>\n",
       "      <td>0.0</td>\n",
       "      <td>27.0</td>\n",
       "      <td>3.0</td>\n",
       "      <td>0.0</td>\n",
       "      <td>0.0</td>\n",
       "      <td>0.0</td>\n",
       "      <td>1.0</td>\n",
       "      <td>0.0</td>\n",
       "      <td>0.0</td>\n",
       "      <td>0.0</td>\n",
       "    </tr>\n",
       "    <tr>\n",
       "      <th>4</th>\n",
       "      <td>12.2875</td>\n",
       "      <td>1.0</td>\n",
       "      <td>1.0</td>\n",
       "      <td>0.0</td>\n",
       "      <td>0.0</td>\n",
       "      <td>0.0</td>\n",
       "      <td>22.0</td>\n",
       "      <td>3.0</td>\n",
       "      <td>0.0</td>\n",
       "      <td>1.0</td>\n",
       "      <td>0.0</td>\n",
       "      <td>1.0</td>\n",
       "      <td>0.0</td>\n",
       "      <td>0.0</td>\n",
       "      <td>1.0</td>\n",
       "    </tr>\n",
       "  </tbody>\n",
       "</table>\n",
       "</div>"
      ],
      "text/plain": [
       "      Fare  female   Mr  male  Mrs  Miss   Age  Pclass    C  Parch  Master  \\\n",
       "0   7.8292     0.0  1.0   1.0  0.0   0.0  34.0     3.0  0.0    0.0     0.0   \n",
       "1   7.0000     1.0  0.0   0.0  1.0   0.0  47.0     3.0  0.0    0.0     0.0   \n",
       "2   9.6875     0.0  0.0   1.0  0.0   1.0  62.0     2.0  0.0    0.0     0.0   \n",
       "3   8.6625     0.0  0.0   1.0  1.0   0.0  27.0     3.0  0.0    0.0     0.0   \n",
       "4  12.2875     1.0  1.0   0.0  0.0   0.0  22.0     3.0  0.0    1.0     0.0   \n",
       "\n",
       "     S  Rev  Lady  SibSp  \n",
       "0  0.0  0.0   0.0    0.0  \n",
       "1  1.0  0.0   0.0    1.0  \n",
       "2  0.0  0.0   0.0    0.0  \n",
       "3  1.0  0.0   0.0    0.0  \n",
       "4  1.0  0.0   0.0    1.0  "
      ]
     },
     "execution_count": 67,
     "metadata": {},
     "output_type": "execute_result"
    }
   ],
   "source": [
    "df_test = df_test [X.columns]\n",
    "df_test.head(5)"
   ]
  },
  {
   "cell_type": "markdown",
   "metadata": {},
   "source": [
    "### we will use a few classification bagging and boosting ensemble algorithms "
   ]
  },
  {
   "cell_type": "code",
   "execution_count": 68,
   "metadata": {},
   "outputs": [],
   "source": [
    "from sklearn.ensemble import RandomForestClassifier, AdaBoostClassifier, GradientBoostingClassifier,BaggingClassifier\n",
    "from sklearn.svm import SVC\n",
    "from sklearn.neighbors import KNeighborsClassifier\n",
    "KNN = BaggingClassifier(KNeighborsClassifier(),n_estimators=50)\n",
    "RF = RandomForestClassifier()\n",
    "SVM = BaggingClassifier(SVC(),n_estimators=50)\n",
    "XGB = GradientBoostingClassifier()\n",
    "Adaboost = AdaBoostClassifier()"
   ]
  },
  {
   "cell_type": "markdown",
   "metadata": {},
   "source": [
    "## Since we know the data is not completely balanced in the Survivalibiliy, we will use StratifiedKFold method to split the data to ensure avoiding imablance in training/testing"
   ]
  },
  {
   "cell_type": "code",
   "execution_count": 69,
   "metadata": {},
   "outputs": [],
   "source": [
    "from sklearn.model_selection import StratifiedKFold\n",
    "from sklearn.model_selection import cross_val_score"
   ]
  },
  {
   "cell_type": "code",
   "execution_count": 70,
   "metadata": {},
   "outputs": [
    {
     "name": "stdout",
     "output_type": "stream",
     "text": [
      "KNN_Accuracy: 0.735 (0.045)\n",
      "RF_Accuracy: 0.813 (0.035)\n",
      "SVM_Accuracy: 0.669 (0.048)\n",
      "XGB_Accuracy: 0.832 (0.024)\n",
      "Adaboost_Accuracy: 0.820 (0.019)\n"
     ]
    }
   ],
   "source": [
    "kfold = StratifiedKFold (n_splits = 5)\n",
    "n_scores = cross_val_score(KNN, X, Y, scoring='accuracy', cv=kfold, error_score='raise')\n",
    "print('KNN_Accuracy: %.3f (%.3f)' % (np.mean(n_scores), np.std(n_scores)))\n",
    "n_scores = cross_val_score(RF, X, Y, scoring='accuracy', cv=kfold, error_score='raise')\n",
    "print('RF_Accuracy: %.3f (%.3f)' % (np.mean(n_scores), np.std(n_scores)))\n",
    "n_scores = cross_val_score(SVM, X, Y, scoring='accuracy', cv=kfold, error_score='raise')\n",
    "print('SVM_Accuracy: %.3f (%.3f)' % (np.mean(n_scores), np.std(n_scores)))\n",
    "n_scores = cross_val_score(XGB, X, Y, scoring='accuracy', cv=kfold, error_score='raise')\n",
    "print('XGB_Accuracy: %.3f (%.3f)' % (np.mean(n_scores), np.std(n_scores)))\n",
    "n_scores = cross_val_score(Adaboost, X, Y, scoring='accuracy', cv=kfold, error_score='raise')\n",
    "print('Adaboost_Accuracy: %.3f (%.3f)' % (np.mean(n_scores), np.std(n_scores)))"
   ]
  },
  {
   "cell_type": "code",
   "execution_count": 71,
   "metadata": {},
   "outputs": [],
   "source": [
    "### Making predictions on test data using XGB boost but first we will train the model classifier on all of the X data"
   ]
  },
  {
   "cell_type": "code",
   "execution_count": 76,
   "metadata": {
    "scrolled": true
   },
   "outputs": [
    {
     "data": {
      "text/html": [
       "<div>\n",
       "<style scoped>\n",
       "    .dataframe tbody tr th:only-of-type {\n",
       "        vertical-align: middle;\n",
       "    }\n",
       "\n",
       "    .dataframe tbody tr th {\n",
       "        vertical-align: top;\n",
       "    }\n",
       "\n",
       "    .dataframe thead th {\n",
       "        text-align: right;\n",
       "    }\n",
       "</style>\n",
       "<table border=\"1\" class=\"dataframe\">\n",
       "  <thead>\n",
       "    <tr style=\"text-align: right;\">\n",
       "      <th></th>\n",
       "      <th>PassengerId</th>\n",
       "      <th>Survived</th>\n",
       "    </tr>\n",
       "  </thead>\n",
       "  <tbody>\n",
       "    <tr>\n",
       "      <th>0</th>\n",
       "      <td>892</td>\n",
       "      <td>0.0</td>\n",
       "    </tr>\n",
       "    <tr>\n",
       "      <th>1</th>\n",
       "      <td>893</td>\n",
       "      <td>0.0</td>\n",
       "    </tr>\n",
       "    <tr>\n",
       "      <th>2</th>\n",
       "      <td>894</td>\n",
       "      <td>0.0</td>\n",
       "    </tr>\n",
       "    <tr>\n",
       "      <th>3</th>\n",
       "      <td>895</td>\n",
       "      <td>1.0</td>\n",
       "    </tr>\n",
       "    <tr>\n",
       "      <th>4</th>\n",
       "      <td>896</td>\n",
       "      <td>0.0</td>\n",
       "    </tr>\n",
       "  </tbody>\n",
       "</table>\n",
       "</div>"
      ],
      "text/plain": [
       "   PassengerId  Survived\n",
       "0          892       0.0\n",
       "1          893       0.0\n",
       "2          894       0.0\n",
       "3          895       1.0\n",
       "4          896       0.0"
      ]
     },
     "execution_count": 76,
     "metadata": {},
     "output_type": "execute_result"
    }
   ],
   "source": [
    "XGB.fit(X,Y)\n",
    "Survived = pd.DataFrame(XGB.predict(df_test),columns=['Survived'])\n",
    "Submission = Passenger.join(Survived)\n",
    "Submission.head(5)"
   ]
  },
  {
   "cell_type": "code",
   "execution_count": 77,
   "metadata": {},
   "outputs": [],
   "source": [
    "out_path = 'Titanic_Submission.xlsx',
    "writer = pd.ExcelWriter(out_path , engine='xlsxwriter', mode ='w')\n",
    "Submission.to_excel(writer, sheet_name='Submission', index =False)\n",
    "writer.save()\n",
    "writer.close()"
   ]
  },
  {
   "cell_type": "code",
   "execution_count": null,
   "metadata": {},
   "outputs": [],
   "source": []
  },
  {
   "cell_type": "code",
   "execution_count": null,
   "metadata": {},
   "outputs": [],
   "source": []
  },
  {
   "cell_type": "code",
   "execution_count": null,
   "metadata": {},
   "outputs": [],
   "source": []
  },
  {
   "cell_type": "code",
   "execution_count": null,
   "metadata": {},
   "outputs": [],
   "source": []
  },
  {
   "cell_type": "code",
   "execution_count": null,
   "metadata": {},
   "outputs": [],
   "source": []
  }
 ],
 "metadata": {
  "kernelspec": {
   "display_name": "Python 3",
   "language": "python",
   "name": "python3"
  },
  "language_info": {
   "codemirror_mode": {
    "name": "ipython",
    "version": 3
   },
   "file_extension": ".py",
   "mimetype": "text/x-python",
   "name": "python",
   "nbconvert_exporter": "python",
   "pygments_lexer": "ipython3",
   "version": "3.8.3"
  }
 },
 "nbformat": 4,
 "nbformat_minor": 4
}
